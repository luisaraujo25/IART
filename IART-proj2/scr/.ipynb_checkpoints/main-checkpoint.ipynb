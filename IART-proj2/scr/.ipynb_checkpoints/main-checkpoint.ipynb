{
 "cells": [
  {
   "cell_type": "markdown",
   "metadata": {},
   "source": [
    "<hr>\n",
    "<br>\n",
    "\n",
    "## Ensemble Classification"
   ]
  },
  {
   "cell_type": "markdown",
   "metadata": {},
   "source": [
    "# Artificial Intelligence - 2nd Assignment"
   ]
  },
  {
   "cell_type": "markdown",
   "metadata": {},
   "source": [
    "- Firstly, we import the necessary libraries, packages and methods."
   ]
  },
  {
   "cell_type": "code",
   "execution_count": 1,
   "metadata": {},
   "outputs": [],
   "source": [
    "import pandas as pd\n",
    "import numpy as np\n",
    "import matplotlib.pyplot as plt\n",
    "import seaborn as sns\n",
    "import time\n",
    "# Machine Learning\n",
    "from sklearn.svm import SVC\n",
    "from sklearn.compose import ColumnTransformer\n",
    "from sklearn.feature_selection import SelectKBest\n",
    "from sklearn.feature_selection import f_classif\n",
    "from sklearn.metrics import accuracy_score\n",
    "from sklearn.metrics import precision_recall_curve,roc_curve,roc_auc_score\n",
    "from sklearn.metrics import auc\n",
    "from sklearn.model_selection import cross_val_score\n",
    "from sklearn.preprocessing import StandardScaler\n",
    "from sklearn.preprocessing import OrdinalEncoder\n",
    "from sklearn.preprocessing import MinMaxScaler \n",
    "from sklearn.metrics import confusion_matrix, precision_score, recall_score\n",
    "from sklearn.linear_model import LogisticRegression\n",
    "from sklearn.tree import DecisionTreeClassifier\n",
    "from sklearn.model_selection import RandomizedSearchCV\n",
    "from sklearn import metrics\n",
    "from sklearn import linear_model,preprocessing\n",
    "from sklearn import tree\n",
    "from sklearn.metrics import classification_report\n",
    "from sklearn.model_selection import train_test_split\n",
    "from sklearn.ensemble import RandomForestClassifier \n",
    "from sklearn.metrics import confusion_matrix, accuracy_score, recall_score, roc_curve, auc\n",
    "from sklearn import svm\n",
    "from sklearn.naive_bayes import GaussianNB\n",
    "from sklearn.ensemble import RandomForestClassifier\n",
    "from prettytable import PrettyTable"
   ]
  },
  {
   "cell_type": "markdown",
   "metadata": {},
   "source": [
    "<hr>\n",
    "<br>\n",
    "\n",
    "## 1. Dataset Analysis and Review"
   ]
  },
  {
   "cell_type": "markdown",
   "metadata": {},
   "source": [
    "\n",
    "Attributes:\n",
    " \n",
    "Attribute | Type | Properties | Discrete vs Continuous |\n",
    "| - | - | - | - |\n",
    "| Distance from home | Ratio |  Distinctness, Order, Meaningful differences and Meaningful ratios | Continuous |\n",
    "| Distance from last transaction | Ratio | Distinctness, Order, Meaningful differences and Meaningful ratios | Continuous |\n",
    "| Ratio of purchased price to median purchased price | Ratio |  Distinctness, Order, Meaningful differences and Meaningful ratios | Continuous |\n",
    "| Repeat Retailer | Nominal (binary) | Distinctness | Discrete |\n",
    "| Used chip (used credit card) | Nominal (binary) | Distinctness | Discrete | \n",
    "| Used pin (used pin number) | Nominal (binary) | Distinctness | Discrete |\n",
    "| Online Order | Nominal (binary) | Distinctness | Discrete |\n"
   ]
  },
  {
   "cell_type": "code",
   "execution_count": 2,
   "metadata": {},
   "outputs": [
    {
     "data": {
      "text/html": [
       "<div>\n",
       "<style scoped>\n",
       "    .dataframe tbody tr th:only-of-type {\n",
       "        vertical-align: middle;\n",
       "    }\n",
       "\n",
       "    .dataframe tbody tr th {\n",
       "        vertical-align: top;\n",
       "    }\n",
       "\n",
       "    .dataframe thead th {\n",
       "        text-align: right;\n",
       "    }\n",
       "</style>\n",
       "<table border=\"1\" class=\"dataframe\">\n",
       "  <thead>\n",
       "    <tr style=\"text-align: right;\">\n",
       "      <th></th>\n",
       "      <th>distance_from_home</th>\n",
       "      <th>distance_from_last_transaction</th>\n",
       "      <th>ratio_to_median_purchase_price</th>\n",
       "      <th>repeat_retailer</th>\n",
       "      <th>used_chip</th>\n",
       "      <th>used_pin_number</th>\n",
       "      <th>online_order</th>\n",
       "      <th>fraud</th>\n",
       "    </tr>\n",
       "  </thead>\n",
       "  <tbody>\n",
       "    <tr>\n",
       "      <th>0</th>\n",
       "      <td>57.877857</td>\n",
       "      <td>0.311140</td>\n",
       "      <td>1.945940</td>\n",
       "      <td>1.0</td>\n",
       "      <td>1.0</td>\n",
       "      <td>0.0</td>\n",
       "      <td>0.0</td>\n",
       "      <td>0.0</td>\n",
       "    </tr>\n",
       "    <tr>\n",
       "      <th>1</th>\n",
       "      <td>10.829943</td>\n",
       "      <td>0.175592</td>\n",
       "      <td>1.294219</td>\n",
       "      <td>1.0</td>\n",
       "      <td>0.0</td>\n",
       "      <td>0.0</td>\n",
       "      <td>0.0</td>\n",
       "      <td>0.0</td>\n",
       "    </tr>\n",
       "    <tr>\n",
       "      <th>2</th>\n",
       "      <td>5.091079</td>\n",
       "      <td>0.805153</td>\n",
       "      <td>0.427715</td>\n",
       "      <td>1.0</td>\n",
       "      <td>0.0</td>\n",
       "      <td>0.0</td>\n",
       "      <td>1.0</td>\n",
       "      <td>0.0</td>\n",
       "    </tr>\n",
       "    <tr>\n",
       "      <th>3</th>\n",
       "      <td>2.247564</td>\n",
       "      <td>5.600044</td>\n",
       "      <td>0.362663</td>\n",
       "      <td>1.0</td>\n",
       "      <td>1.0</td>\n",
       "      <td>0.0</td>\n",
       "      <td>1.0</td>\n",
       "      <td>0.0</td>\n",
       "    </tr>\n",
       "    <tr>\n",
       "      <th>4</th>\n",
       "      <td>44.190936</td>\n",
       "      <td>0.566486</td>\n",
       "      <td>2.222767</td>\n",
       "      <td>1.0</td>\n",
       "      <td>1.0</td>\n",
       "      <td>0.0</td>\n",
       "      <td>1.0</td>\n",
       "      <td>0.0</td>\n",
       "    </tr>\n",
       "  </tbody>\n",
       "</table>\n",
       "</div>"
      ],
      "text/plain": [
       "   distance_from_home  distance_from_last_transaction  \\\n",
       "0           57.877857                        0.311140   \n",
       "1           10.829943                        0.175592   \n",
       "2            5.091079                        0.805153   \n",
       "3            2.247564                        5.600044   \n",
       "4           44.190936                        0.566486   \n",
       "\n",
       "   ratio_to_median_purchase_price  repeat_retailer  used_chip  \\\n",
       "0                        1.945940              1.0        1.0   \n",
       "1                        1.294219              1.0        0.0   \n",
       "2                        0.427715              1.0        0.0   \n",
       "3                        0.362663              1.0        1.0   \n",
       "4                        2.222767              1.0        1.0   \n",
       "\n",
       "   used_pin_number  online_order  fraud  \n",
       "0              0.0           0.0    0.0  \n",
       "1              0.0           0.0    0.0  \n",
       "2              0.0           1.0    0.0  \n",
       "3              0.0           1.0    0.0  \n",
       "4              0.0           1.0    0.0  "
      ]
     },
     "execution_count": 2,
     "metadata": {},
     "output_type": "execute_result"
    }
   ],
   "source": [
    "dataFrame = pd.read_csv('https://raw.githubusercontent.com/luisaraujo25/IART/main/IART-proj2/files/card_transdata.csv')\n",
    "dataFrame.head()"
   ]
  },
  {
   "cell_type": "markdown",
   "metadata": {},
   "source": [
    "<hr>\n",
    "<br>\n",
    "\n",
    "- You can now find basic statistics about our problem."
   ]
  },
  {
   "cell_type": "code",
   "execution_count": 3,
   "metadata": {},
   "outputs": [
    {
     "data": {
      "text/html": [
       "<div>\n",
       "<style scoped>\n",
       "    .dataframe tbody tr th:only-of-type {\n",
       "        vertical-align: middle;\n",
       "    }\n",
       "\n",
       "    .dataframe tbody tr th {\n",
       "        vertical-align: top;\n",
       "    }\n",
       "\n",
       "    .dataframe thead th {\n",
       "        text-align: right;\n",
       "    }\n",
       "</style>\n",
       "<table border=\"1\" class=\"dataframe\">\n",
       "  <thead>\n",
       "    <tr style=\"text-align: right;\">\n",
       "      <th></th>\n",
       "      <th>distance_from_home</th>\n",
       "      <th>distance_from_last_transaction</th>\n",
       "      <th>ratio_to_median_purchase_price</th>\n",
       "      <th>repeat_retailer</th>\n",
       "      <th>used_chip</th>\n",
       "      <th>used_pin_number</th>\n",
       "      <th>online_order</th>\n",
       "      <th>fraud</th>\n",
       "    </tr>\n",
       "  </thead>\n",
       "  <tbody>\n",
       "    <tr>\n",
       "      <th>count</th>\n",
       "      <td>1000000.000000</td>\n",
       "      <td>1000000.000000</td>\n",
       "      <td>1000000.000000</td>\n",
       "      <td>1000000.000000</td>\n",
       "      <td>1000000.000000</td>\n",
       "      <td>1000000.000000</td>\n",
       "      <td>1000000.000000</td>\n",
       "      <td>1000000.000000</td>\n",
       "    </tr>\n",
       "    <tr>\n",
       "      <th>mean</th>\n",
       "      <td>26.628792</td>\n",
       "      <td>5.036519</td>\n",
       "      <td>1.824182</td>\n",
       "      <td>0.881536</td>\n",
       "      <td>0.350399</td>\n",
       "      <td>0.100608</td>\n",
       "      <td>0.650552</td>\n",
       "      <td>0.087403</td>\n",
       "    </tr>\n",
       "    <tr>\n",
       "      <th>std</th>\n",
       "      <td>65.390784</td>\n",
       "      <td>25.843093</td>\n",
       "      <td>2.799589</td>\n",
       "      <td>0.323157</td>\n",
       "      <td>0.477095</td>\n",
       "      <td>0.300809</td>\n",
       "      <td>0.476796</td>\n",
       "      <td>0.282425</td>\n",
       "    </tr>\n",
       "    <tr>\n",
       "      <th>min</th>\n",
       "      <td>0.004874</td>\n",
       "      <td>0.000118</td>\n",
       "      <td>0.004399</td>\n",
       "      <td>0.000000</td>\n",
       "      <td>0.000000</td>\n",
       "      <td>0.000000</td>\n",
       "      <td>0.000000</td>\n",
       "      <td>0.000000</td>\n",
       "    </tr>\n",
       "    <tr>\n",
       "      <th>25%</th>\n",
       "      <td>3.878008</td>\n",
       "      <td>0.296671</td>\n",
       "      <td>0.475673</td>\n",
       "      <td>1.000000</td>\n",
       "      <td>0.000000</td>\n",
       "      <td>0.000000</td>\n",
       "      <td>0.000000</td>\n",
       "      <td>0.000000</td>\n",
       "    </tr>\n",
       "    <tr>\n",
       "      <th>50%</th>\n",
       "      <td>9.967760</td>\n",
       "      <td>0.998650</td>\n",
       "      <td>0.997717</td>\n",
       "      <td>1.000000</td>\n",
       "      <td>0.000000</td>\n",
       "      <td>0.000000</td>\n",
       "      <td>1.000000</td>\n",
       "      <td>0.000000</td>\n",
       "    </tr>\n",
       "    <tr>\n",
       "      <th>75%</th>\n",
       "      <td>25.743985</td>\n",
       "      <td>3.355748</td>\n",
       "      <td>2.096370</td>\n",
       "      <td>1.000000</td>\n",
       "      <td>1.000000</td>\n",
       "      <td>0.000000</td>\n",
       "      <td>1.000000</td>\n",
       "      <td>0.000000</td>\n",
       "    </tr>\n",
       "    <tr>\n",
       "      <th>max</th>\n",
       "      <td>10632.723672</td>\n",
       "      <td>11851.104565</td>\n",
       "      <td>267.802942</td>\n",
       "      <td>1.000000</td>\n",
       "      <td>1.000000</td>\n",
       "      <td>1.000000</td>\n",
       "      <td>1.000000</td>\n",
       "      <td>1.000000</td>\n",
       "    </tr>\n",
       "  </tbody>\n",
       "</table>\n",
       "</div>"
      ],
      "text/plain": [
       "       distance_from_home  distance_from_last_transaction  \\\n",
       "count      1000000.000000                  1000000.000000   \n",
       "mean            26.628792                        5.036519   \n",
       "std             65.390784                       25.843093   \n",
       "min              0.004874                        0.000118   \n",
       "25%              3.878008                        0.296671   \n",
       "50%              9.967760                        0.998650   \n",
       "75%             25.743985                        3.355748   \n",
       "max          10632.723672                    11851.104565   \n",
       "\n",
       "       ratio_to_median_purchase_price  repeat_retailer       used_chip  \\\n",
       "count                  1000000.000000   1000000.000000  1000000.000000   \n",
       "mean                         1.824182         0.881536        0.350399   \n",
       "std                          2.799589         0.323157        0.477095   \n",
       "min                          0.004399         0.000000        0.000000   \n",
       "25%                          0.475673         1.000000        0.000000   \n",
       "50%                          0.997717         1.000000        0.000000   \n",
       "75%                          2.096370         1.000000        1.000000   \n",
       "max                        267.802942         1.000000        1.000000   \n",
       "\n",
       "       used_pin_number    online_order           fraud  \n",
       "count   1000000.000000  1000000.000000  1000000.000000  \n",
       "mean          0.100608        0.650552        0.087403  \n",
       "std           0.300809        0.476796        0.282425  \n",
       "min           0.000000        0.000000        0.000000  \n",
       "25%           0.000000        0.000000        0.000000  \n",
       "50%           0.000000        1.000000        0.000000  \n",
       "75%           0.000000        1.000000        0.000000  \n",
       "max           1.000000        1.000000        1.000000  "
      ]
     },
     "execution_count": 3,
     "metadata": {},
     "output_type": "execute_result"
    }
   ],
   "source": [
    "dataFrame.describe()"
   ]
  },
  {
   "cell_type": "markdown",
   "metadata": {},
   "source": [
    "<hr>\n",
    "<br>\n",
    "\n",
    "## Data Preprocessing\n",
    "\n",
    "- First, we are checking if there are any duplicated data.\n",
    "- If yes, we remove duplicated objects.\n",
    "- For this specific dataset, there isn't any duplicated data as it can be watch in the following:"
   ]
  },
  {
   "cell_type": "code",
   "execution_count": 4,
   "metadata": {},
   "outputs": [
    {
     "name": "stdout",
     "output_type": "stream",
     "text": [
      "Original dataset length:  1000000\n",
      "Number of dups:  0\n"
     ]
    }
   ],
   "source": [
    "length = len(dataFrame)\n",
    "dataFrame.drop_duplicates(keep = False)\n",
    "cleanedDups = len(dataFrame)\n",
    "\n",
    "print(\"Original dataset length: \", length)\n",
    "print(\"Number of dups: \", length - cleanedDups)"
   ]
  },
  {
   "cell_type": "markdown",
   "metadata": {},
   "source": [
    "- Secondly, we detect outliers."
   ]
  },
  {
   "cell_type": "code",
   "execution_count": 5,
   "metadata": {},
   "outputs": [
    {
     "data": {
      "text/plain": [
       "<seaborn.axisgrid.PairGrid at 0x17115755820>"
      ]
     },
     "execution_count": 5,
     "metadata": {},
     "output_type": "execute_result"
    },
    {
     "data": {
      "image/png": "[encoded data removed]",
      "text/plain": [
       "<Figure size 592x540 with 12 Axes>"
      ]
     },
     "metadata": {
      "needs_background": "light"
     },
     "output_type": "display_data"
    }
   ],
   "source": [
    "%matplotlib inline\n",
    "dataFrame = dataFrame.sample(100000) #sample used for faster run-time of program\n",
    "sns.pairplot(dataFrame, vars =[\"distance_from_home\", \"distance_from_last_transaction\", \"ratio_to_median_purchase_price\"], hue = 'fraud')"
   ]
  },
  {
   "cell_type": "markdown",
   "metadata": {},
   "source": [
    "- If there are any outliers for the given dataset, we remove them."
   ]
  },
  {
   "cell_type": "code",
   "execution_count": null,
   "metadata": {},
   "outputs": [],
   "source": [
    "#remove outliers\n",
    "dataFrame = dataFrame[(dataFrame['distance_from_home'] <= 1900) ]\n",
    "dataFrame = dataFrame[(dataFrame['distance_from_last_transaction'] <= 900)]\n",
    "dataFrame = dataFrame[(dataFrame['ratio_to_median_purchase_price'] <= 75)]\n",
    "\n",
    "%matplotlib inline\n",
    "\n",
    "sns.pairplot(dataFrame, vars =[\"distance_from_home\", \"distance_from_last_transaction\", \"ratio_to_median_purchase_price\"], hue = 'fraud')"
   ]
  },
  {
   "cell_type": "markdown",
   "metadata": {},
   "source": [
    "- The last step of data preprocessing for our problem is removing \"NA\" or null values."
   ]
  },
  {
   "cell_type": "code",
   "execution_count": null,
   "metadata": {},
   "outputs": [],
   "source": [
    "print(dataFrame.isna().sum())\n",
    "print(dataFrame.isnull().sum())\n",
    "dataFrame = pd.read_csv('https://raw.githubusercontent.com/luisaraujo25/IART/main/IART-proj2/files/card_transdata.csv?token=GHSAT0AAAAAABU4MP55GLM3ECB2PEOE57AYYU6UTUQ', na_values=['NA'])\n",
    "dataFrame.dropna()"
   ]
  },
  {
   "cell_type": "markdown",
   "metadata": {},
   "source": [
    "<hr>\n",
    "<br>\n",
    "\n",
    "- In this step, we use a sample of our dataset since the given one is too long, reaching 1000000 objects.\n",
    "- After that, we create two new datasets: one only containing fraudlent transactions (fraud attribute = 1) and another contaning only non-fraudlent transactions (fraud attribute = 0)"
   ]
  },
  {
   "cell_type": "code",
   "execution_count": null,
   "metadata": {},
   "outputs": [],
   "source": [
    "#No fraud (class == 0) meaning legit transactions\n",
    "#Fraud (class == 1) meaning fraudulent transactions\n",
    "\n",
    "#Creating new data frames for No fraud and Fraud cases\n",
    "no_fraud=dataFrame[dataFrame.fraud == 0]\n",
    "fraud=dataFrame[dataFrame.fraud == 1]\n",
    "\n",
    "#Resampling the original dataset with 10,000 datapoints\n",
    "no_fraud_resample=no_fraud.sample(n=5000)\n",
    "fraud_resample=fraud.sample(n=5000)\n",
    "\n",
    "#Creating new dataset consisting of equal class occurence \n",
    "data=pd.concat([no_fraud_resample,fraud_resample],axis=0)"
   ]
  },
  {
   "cell_type": "code",
   "execution_count": null,
   "metadata": {},
   "outputs": [],
   "source": [
    "#Splitting the dataset\n",
    "\n",
    "#Creating dataframe for target\n",
    "target=data['fraud']\n",
    "\n",
    "#Creating dataframe for features\n",
    "features=data.drop(columns=['fraud'],axis=1)\n",
    "\n",
    "\n",
    "train_features,test_features,train_labels,test_labels = train_test_split(features,target,stratify=target,shuffle=True,random_state=56)"
   ]
  },
  {
   "cell_type": "code",
   "execution_count": null,
   "metadata": {},
   "outputs": [],
   "source": [
    "#Standardising the dataset\n",
    "scale=MinMaxScaler().fit(train_features)\n",
    "train_features_scaled=scale.transform(train_features)\n",
    "test_features_scaled=scale.transform(test_features)"
   ]
  },
  {
   "cell_type": "markdown",
   "metadata": {},
   "source": [
    "<hr>\n",
    "<br>\n",
    "\n",
    "## Algorithms and Model Training"
   ]
  },
  {
   "cell_type": "markdown",
   "metadata": {},
   "source": [
    "### Random Forest"
   ]
  },
  {
   "cell_type": "code",
   "execution_count": null,
   "metadata": {},
   "outputs": [],
   "source": [
    "start_time = time.time()\n",
    "\n",
    "\n",
    "data_all=[] #Creating empty list to store model evaluation values\n",
    "model_name = 'Random Forest'\n",
    "model = RandomForestClassifier()\n",
    "param_rf={\n",
    "    \"n_estimators\": range(2,15,2),\n",
    "    \"max_features\": range(1,7),\n",
    "    \"max_depth\": range(1,10)\n",
    "}\n",
    "\n",
    "\n",
    "random_rf = RandomizedSearchCV(estimator = model, \n",
    "                                param_distributions = param_rf, \n",
    "                                n_iter = 15, \n",
    "                                cv = 10,\n",
    "                                scoring = 'accuracy', \n",
    "                                verbose = 1, \n",
    "                                n_jobs = -1,\n",
    "                                random_state = 1)\n",
    "\n",
    "random_rf.fit(train_features, train_labels)\n",
    "\n",
    "\n",
    "model = random_rf.best_estimator_\n",
    "crossval = cross_val_score(model,\n",
    "                            train_features,\n",
    "                            train_labels,\n",
    "                            cv = 5,\n",
    "                            scoring = 'accuracy')\n",
    "\n",
    "scores = np.mean(crossval)\n",
    "\n",
    "test_pred = model.predict(test_features)\n",
    "test_recall = recall_score(test_labels, \n",
    "                            test_pred, \n",
    "                            pos_label = 1)\n",
    "fpr, tpr, thresholds = roc_curve(test_labels, \n",
    "                                test_pred, \n",
    "                                pos_label = 1)\n",
    "test_auc = auc(fpr, tpr)\n",
    "\n",
    "end_time = time.time()\n"
   ]
  },
  {
   "cell_type": "markdown",
   "metadata": {},
   "source": [
    "#### Random Forest Confusion Matrix"
   ]
  },
  {
   "cell_type": "code",
   "execution_count": null,
   "metadata": {},
   "outputs": [],
   "source": [
    "test_pred = model.predict(test_features)\n",
    "cm = confusion_matrix(test_labels, test_pred)\n",
    "clr = classification_report(test_labels, test_pred)\n",
    "plt.figure(figsize=(5, 5))\n",
    "sns.heatmap(cm, \n",
    "            annot = True, \n",
    "            vmin = 0, \n",
    "            fmt = 'g', \n",
    "            cbar = False, \n",
    "            cmap = 'Blues')\n",
    "plt.xlabel(\"Predicted\")\n",
    "plt.ylabel(\"Actual\")\n",
    "plt.title(\"Confusion Matrix:Random Forest\")\n",
    "plt.show()\n",
    "print(clr)\n",
    "\n",
    "if accuracy_score(test_labels, test_pred) - scores < 1:\n",
    "    result_model = 'Good Model'\n",
    "    data_all.append([model_name,\n",
    "                    scores,\n",
    "                    accuracy_score(test_labels, test_pred),\n",
    "                    test_recall, \n",
    "                    test_auc,\n",
    "                    (end_time-start_time),\n",
    "                    result_model])\n",
    "else:\n",
    "    result_model = 'Bad Model'\n",
    "    data_all.append([model_name,\n",
    "                    scores,\n",
    "                    accuracy_score(test_labels, test_pred),\n",
    "                    test_recall,\n",
    "                    test_auc,\n",
    "                    (end_time-start_time),\n",
    "                    result_model])"
   ]
  },
  {
   "cell_type": "markdown",
   "metadata": {},
   "source": [
    "#### Random Forest Running Time"
   ]
  },
  {
   "cell_type": "code",
   "execution_count": null,
   "metadata": {},
   "outputs": [],
   "source": [
    "print(\"Running time: \", end_time-start_time)"
   ]
  },
  {
   "cell_type": "markdown",
   "metadata": {},
   "source": [
    "<hr>\n",
    "<br>\n",
    "\n",
    "### Support Vector Machine"
   ]
  },
  {
   "cell_type": "code",
   "execution_count": null,
   "metadata": {},
   "outputs": [],
   "source": [
    "start_time = time.time()\n",
    "\n",
    "model_name='SVM'\n",
    "model= SVC()\n",
    "param_svm={\n",
    "    \"C\":[100,10,1,0.1],\n",
    "    \"gamma\": [10,1,0.1,0.001],\n",
    "    \"kernel\": ['rbf']\n",
    "    }\n",
    "\n",
    "random_svm=RandomizedSearchCV(estimator=model, param_distributions=param_svm, n_iter = 15 , scoring='accuracy', cv = 10, verbose=2, n_jobs=-1,random_state=43)\n",
    "random_svm.fit(train_features_scaled,train_labels)\n",
    "\n",
    "model=random_svm.best_estimator_\n",
    "crossval = cross_val_score(model,train_features_scaled,train_labels,cv=5,scoring='accuracy')\n",
    "scores = np.mean(crossval)\n",
    "\n",
    "test_pred=model.predict(test_features_scaled)\n",
    "test_recall = recall_score(test_labels, test_pred, pos_label=1)\n",
    "fpr, tpr, thresholds = roc_curve(test_labels, test_pred, pos_label=1)\n",
    "test_auc = auc(fpr, tpr)\n",
    "\n",
    "\n",
    "end_time = time.time()\n",
    "\n"
   ]
  },
  {
   "cell_type": "markdown",
   "metadata": {},
   "source": [
    "#### Support Vector Machine Confusion Matrix"
   ]
  },
  {
   "cell_type": "code",
   "execution_count": null,
   "metadata": {},
   "outputs": [],
   "source": [
    "test_pred=model.predict(test_features_scaled)\n",
    "cm = confusion_matrix(test_labels, test_pred)\n",
    "clr = classification_report(test_labels, test_pred)\n",
    "plt.figure(figsize=(6, 6))\n",
    "sns.heatmap(cm, annot=True, vmin=0, fmt='g', cbar=False, cmap='Greens')\n",
    "plt.xlabel(\"Predicted\")\n",
    "plt.ylabel(\"Actual\")\n",
    "plt.title(\"Confusion Matrix: SVM\")\n",
    "plt.show()\n",
    "print(\"Classification Report:\\n\\n\", clr)\n",
    "\n",
    "if accuracy_score(test_labels,test_pred)-scores <1:\n",
    "    result_model='Good Model'\n",
    "    data_all.append([model_name,scores,accuracy_score(test_labels,test_pred),test_recall,test_auc,(end_time-start_time),result_model])\n",
    "else:\n",
    "    result_model='Bad Model'\n",
    "    data_all.append([model_name,scores,accuracy_score(test_labels,test_pred),test_recall,test_auc,(end_time-start_time),result_model])"
   ]
  },
  {
   "cell_type": "markdown",
   "metadata": {},
   "source": [
    "Defining a Function for Train and Test split - split is done on 80% train and 20% test (can be altered in test_size value). Initially done including all features."
   ]
  },
  {
   "cell_type": "markdown",
   "metadata": {},
   "source": [
    "#### Support Vector Machine Running Time"
   ]
  },
  {
   "cell_type": "code",
   "execution_count": null,
   "metadata": {},
   "outputs": [],
   "source": [
    "print(\"Running time: \", end_time-start_time)"
   ]
  },
  {
   "cell_type": "markdown",
   "metadata": {},
   "source": [
    "<hr>\n",
    "<br>\n",
    "\n",
    "### Decision Tree"
   ]
  },
  {
   "cell_type": "code",
   "execution_count": null,
   "metadata": {},
   "outputs": [],
   "source": [
    "start_time = time.time()\n",
    "\n",
    "model_name = 'Decision Tree'\n",
    "des_tree_model = DecisionTreeClassifier()\n",
    "drawing= des_tree_model.fit(train_features, train_labels)\n",
    "y_test_pred = des_tree_model.predict(test_features)\n",
    "y_train_pred = des_tree_model.predict(train_features)\n",
    "Accuracy_Test=accuracy_score(test_labels, y_test_pred) * 100\n",
    "Accuracy_Test= str(Accuracy_Test) + \" %\"\n",
    "Accuracy_Train=accuracy_score(train_labels, y_train_pred) * 100\n",
    "Accuracy_Train= str(Accuracy_Train) + \" %\"\n",
    "Train_Data_Score=des_tree_model.score(train_features, train_labels) * 100\n",
    "Train_Data_Score= str(Train_Data_Score) + \" %\"\n",
    "\n",
    "\n",
    "#Construction of confusion matrix\n",
    "confmat_train = confusion_matrix(y_train_pred, train_labels)\n",
    "confmat_test =  confusion_matrix(y_test_pred, test_labels)\n",
    "total=sum(sum(confmat_test))\n",
    "\n",
    "\n",
    "#Calculation of Specificity\n",
    "#Specificity = TN/(TN+FP)\n",
    "sp = confmat_test[1,1]/(confmat_test[1,0]+confmat_test[1,1]) * 100\n",
    "sp= str(sp) + \" %\"\n",
    "\n",
    "\n",
    "#Calculation of sensitivity\n",
    "#Sensitivity= TP/(TP+FN)\n",
    "sensi = confmat_test[0,0]/(confmat_test[0,0]+confmat_test[0,1]) * 100\n",
    "sensi= str(sensi) + \" %\"\n",
    "\n",
    "end_time = time.time()\n",
    "\n",
    "crossval = cross_val_score(des_tree_model,train_features_scaled,train_labels,cv=5,scoring='accuracy')\n",
    "scores = np.mean(crossval)\n",
    "\n",
    "test_recall = recall_score(test_labels, y_test_pred, pos_label=1)\n",
    "fpr,tpr,thresholds = roc_curve(test_labels, test_pred, pos_label=1)\n",
    "test_auc = auc(fpr,tpr)\n",
    "\n",
    "if accuracy_score(test_labels,test_pred)-scores <1:\n",
    "    result_model='Good Model'\n",
    "    data_all.append([model_name,scores,accuracy_score(test_labels,y_test_pred),test_recall,test_auc,(end_time-start_time),result_model])\n",
    "else:\n",
    "    result_model='Bad Model'\n",
    "    data_all.append([model_name,scores,accuracy_score(test_labels,y_test_pred),test_recall,test_auc,(end_time-start_time),result_model])"
   ]
  },
  {
   "cell_type": "markdown",
   "metadata": {},
   "source": [
    "#### Decision Tree Confusion Matrix"
   ]
  },
  {
   "cell_type": "code",
   "execution_count": null,
   "metadata": {},
   "outputs": [],
   "source": [
    "# Confusion matrix of the Decision Tree\n",
    "import matplotlib.pyplot as plt\n",
    "%matplotlib inline  \n",
    "\n",
    "def plot_confusionmat(cm, lab, test_or_train):\n",
    "    fig = plt.figure()\n",
    "    ax = fig.add_subplot(111)\n",
    "    f = ax.matshow(cm, cmap=plt.cm.turbo)\n",
    "    plt.title('Confusion Matrix of the ' + test_or_train +' Decision Tree \\n')\n",
    "    fig.colorbar(f)\n",
    "    ax.set_xticklabels([''] + lab)\n",
    "    ax.set_yticklabels([''] + lab)\n",
    "    plt.xlabel('Predicted Values')\n",
    "    plt.ylabel('True Values')\n",
    "    s = [['TP','FN'], ['FP', 'TN']]\n",
    "    for k in range(2):\n",
    "        for l in range(2):\n",
    "            plt.text(l,k, str(cm[k][l]))\n",
    "    plt.show()"
   ]
  },
  {
   "cell_type": "code",
   "execution_count": null,
   "metadata": {},
   "outputs": [],
   "source": [
    "plot_confusionmat(confmat_train, [\"0\",\"1\"], \"Training\")\n",
    "plot_confusionmat(confmat_test, [\"0\",\"1\"], \"Testing\")"
   ]
  },
  {
   "cell_type": "markdown",
   "metadata": {},
   "source": [
    "#### Decision Tree Drawing"
   ]
  },
  {
   "cell_type": "code",
   "execution_count": null,
   "metadata": {},
   "outputs": [],
   "source": [
    "plt.figure(figsize=[60,40])\n",
    "tree.plot_tree(des_tree_model,fontsize=20, rounded=True,impurity=True, precision=2)\n",
    "#tree.plot_tree(drawing,fontsize=20, rounded=True,impurity=True, precision=2)\n",
    "plt.show()"
   ]
  },
  {
   "cell_type": "markdown",
   "metadata": {},
   "source": [
    "<hr>\n",
    "<br>\n",
    "\n",
    "### Logisitic Regression"
   ]
  },
  {
   "cell_type": "code",
   "execution_count": null,
   "metadata": {},
   "outputs": [],
   "source": [
    "start_time = time.time()\n",
    "\n",
    "model_name='Logistic Regression'\n",
    "model= LogisticRegression(max_iter=1000)\n",
    "param_lr={\n",
    "    \"solver\": ['newton-cg','lbfgs','liblinear'],\n",
    "    \"C\":[100, 10, 1.0, 0.1, 0.01],\n",
    "    \"penalty\":['l2']\n",
    "}\n",
    "random_lr=RandomizedSearchCV(estimator=model, param_distributions=param_lr, n_iter = 15 , scoring='accuracy', cv = 10, verbose=2, n_jobs=-1,random_state=27)\n",
    "random_lr.fit(train_features_scaled,train_labels)\n",
    "model=random_lr.best_estimator_\n",
    "crossval = cross_val_score(model,train_features_scaled,train_labels,cv=5,scoring='accuracy')\n",
    "scores = np.mean(crossval)\n",
    "\n",
    "test_pred=model.predict(test_features_scaled)\n",
    "test_recall = recall_score(test_labels, test_pred, pos_label=1)\n",
    "fpr,tpr,thresholds = roc_curve(test_labels, test_pred, pos_label=1)\n",
    "test_auc = auc(fpr,tpr)\n",
    "\n",
    "end_time = time.time()"
   ]
  },
  {
   "cell_type": "markdown",
   "metadata": {},
   "source": [
    "#### Logistic Regression Running Time"
   ]
  },
  {
   "cell_type": "code",
   "execution_count": null,
   "metadata": {},
   "outputs": [],
   "source": [
    "print(\"Running time: \", end_time-start_time)"
   ]
  },
  {
   "cell_type": "markdown",
   "metadata": {},
   "source": [
    "#### Logistic Regression Confusion Matrix"
   ]
  },
  {
   "cell_type": "code",
   "execution_count": null,
   "metadata": {},
   "outputs": [],
   "source": [
    "test_pred=model.predict(test_features_scaled)\n",
    "cm = confusion_matrix(test_labels, test_pred)\n",
    "clr = classification_report(test_labels, test_pred)\n",
    "plt.figure(figsize=(5, 5))\n",
    "sns.heatmap(cm, annot=True, vmin=0, fmt='g', cbar=False, cmap='Blues')\n",
    "plt.xlabel(\"Predicted\")\n",
    "plt.ylabel(\"Actual\")\n",
    "plt.title(\"Confusion Matrix:Log Reg\")\n",
    "plt.show()\n",
    "print(\"Classification Report:\\n----------------------\\n\", clr)\n",
    "\n",
    "if accuracy_score(test_labels,test_pred)-scores <1:\n",
    "    result_model='Good Model'\n",
    "    data_all.append([model_name,scores,accuracy_score(test_labels,test_pred),test_recall,test_auc,(end_time-start_time),result_model])\n",
    "else:\n",
    "    result_model='Bad Model'\n",
    "    data_all.append([model_name,scores,accuracy_score(test_labels,test_pred),test_recall,test_auc,(end_time-start_time),result_model])"
   ]
  },
  {
   "cell_type": "markdown",
   "metadata": {},
   "source": [
    "### Ensemble Classification"
   ]
  },
  {
   "cell_type": "code",
   "execution_count": null,
   "metadata": {},
   "outputs": [],
   "source": [
    "models=['Random Forest', 'SVM', 'Decision Tree', 'Logisitic Regression']\n",
    "pd_scores=pd.DataFrame(data_all,columns=['model','train score','test score','test recall','test_auc','run time','Remark'])\n",
    "print(pd_scores)"
   ]
  },
  {
   "cell_type": "code",
   "execution_count": null,
   "metadata": {},
   "outputs": [],
   "source": [
    "#Train Score \n",
    "  \n",
    "fig = plt.figure(figsize = (10, 5))\n",
    "\n",
    "train_score_val=[]\n",
    " \n",
    "for i in data_all:\n",
    "        train_score_val.append(i[1])\n",
    "# creating the bar plot\n",
    "plt.bar(models, train_score_val, color ='maroon',\n",
    "        width = 0.4)\n",
    " \n",
    "plt.xlabel(\"Model\")\n",
    "plt.ylabel(\"Train Score\")\n",
    "plt.title(\"Train Score per Model\")\n",
    "plt.show()"
   ]
  },
  {
   "cell_type": "code",
   "execution_count": null,
   "metadata": {},
   "outputs": [],
   "source": [
    "#Test Score \n",
    "  \n",
    "fig = plt.figure(figsize = (10, 5))\n",
    "\n",
    "test_score_val=[]\n",
    " \n",
    "for i in data_all:\n",
    "        test_score_val.append(i[2])\n",
    "# creating the bar plot\n",
    "plt.bar(models, test_score_val, color ='pink',\n",
    "        width = 0.4)\n",
    " \n",
    "plt.xlabel(\"Model\")\n",
    "plt.ylabel(\"Test Score\")\n",
    "plt.title(\"Test Score per Model\")\n",
    "plt.show()"
   ]
  },
  {
   "cell_type": "code",
   "execution_count": null,
   "metadata": {},
   "outputs": [],
   "source": [
    "#Test Score \n",
    "  \n",
    "fig = plt.figure(figsize = (10, 5))\n",
    "\n",
    "test_recall_val=[]\n",
    " \n",
    "for i in data_all:\n",
    "        test_recall_val.append(i[3])\n",
    "# creating the bar plot\n",
    "plt.bar(models, test_recall_val, color ='green',\n",
    "        width = 0.4)\n",
    " \n",
    "plt.xlabel(\"Model\")\n",
    "plt.ylabel(\"Test Recall\")\n",
    "plt.title(\"Test Recall per Model\")\n",
    "plt.show()"
   ]
  },
  {
   "cell_type": "code",
   "execution_count": null,
   "metadata": {},
   "outputs": [],
   "source": [
    "#Test Score \n",
    "  \n",
    "fig = plt.figure(figsize = (10, 5))\n",
    "\n",
    "test_auc_val=[]\n",
    " \n",
    "for i in data_all:\n",
    "        test_auc_val.append(i[4])\n",
    "# creating the bar plot\n",
    "plt.bar(models, test_auc_val, color ='blue',\n",
    "        width = 0.4)\n",
    " \n",
    "plt.xlabel(\"Model\")\n",
    "plt.ylabel(\"Area Under Curve (%)\")\n",
    "plt.title(\"Area Under Curve per Model\")\n",
    "plt.show()"
   ]
  },
  {
   "cell_type": "code",
   "execution_count": null,
   "metadata": {},
   "outputs": [],
   "source": [
    "#Test Score \n",
    "  \n",
    "fig = plt.figure(figsize = (10, 5))\n",
    "\n",
    "run_time_val=[]\n",
    " \n",
    "for i in data_all:\n",
    "        run_time_val.append(i[5])\n",
    "# creating the bar plot\n",
    "plt.bar(models, run_time_val, color ='green',\n",
    "        width = 0.4)\n",
    " \n",
    "plt.xlabel(\"Model\")\n",
    "plt.ylabel(\"Time (s)\")\n",
    "plt.title(\"Run Time per Model\")\n",
    "plt.show()"
   ]
  },
  {
   "cell_type": "markdown",
   "metadata": {},
   "source": [
    "<strong>Conclusions</strong><br>\n",
    "Comparing all the algorithms side by side, the first think that we noticed is the SVM run time was significantly higher relative to the others thus making it the less time-efficient algorithm of the 4. Upon further inspection of the values obtained, we verified that the decision tree and random forest are the ones that obtained the best scores but of those two, decisions tree algorithm is quite faster ( 8.02s vs 0.02s)."
   ]
  }
 ],
 "metadata": {
  "interpreter": {
   "hash": "916dbcbb3f70747c44a77c7bcd40155683ae19c65e1c03b4aa3499c5328201f1"
  },
  "kernelspec": {
   "display_name": "Python 3 (ipykernel)",
   "language": "python",
   "name": "python3"
  },
  "language_info": {
   "codemirror_mode": {
    "name": "ipython",
    "version": 3
   },
   "file_extension": ".py",
   "mimetype": "text/x-python",
   "name": "python",
   "nbconvert_exporter": "python",
   "pygments_lexer": "ipython3",
   "version": "3.9.12"
  }
 },
 "nbformat": 4,
 "nbformat_minor": 2
}
