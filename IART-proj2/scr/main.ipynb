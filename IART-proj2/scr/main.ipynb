{
 "cells": [
  {
   "cell_type": "markdown",
   "metadata": {},
   "source": []
  },
  {
   "cell_type": "markdown",
   "metadata": {},
   "source": [
    "# Artificial Intelligence - 2nd Assignment"
   ]
  },
  {
   "cell_type": "markdown",
   "metadata": {},
   "source": [
    "- Firstly, we import the necessary libraries, packages and methods."
   ]
  },
  {
   "cell_type": "code",
   "execution_count": 106,
   "metadata": {},
   "outputs": [],
   "source": [
    "import pandas as pd\n",
    "import numpy as np\n",
    "import matplotlib.pyplot as plt\n",
    "import seaborn as sns\n",
    "import warnings\n",
    "# Machine Learning\n",
    "from scipy import stats\n",
    "from sklearn.svm import SVC\n",
    "from sklearn.compose import ColumnTransformer\n",
    "from sklearn.feature_selection import SelectKBest\n",
    "from sklearn.feature_selection import f_classif\n",
    "from sklearn.metrics import accuracy_score\n",
    "from sklearn.metrics import precision_recall_curve,roc_curve,roc_auc_score\n",
    "from sklearn.metrics import auc\n",
    "from sklearn.model_selection import cross_val_score\n",
    "from sklearn.preprocessing import StandardScaler\n",
    "from sklearn.preprocessing import OrdinalEncoder\n",
    "from sklearn.preprocessing import MinMaxScaler \n",
    "from sklearn.metrics import confusion_matrix, precision_score, recall_score\n",
    "from sklearn.model_selection import  train_test_split\n",
    "from sklearn.linear_model import LogisticRegression\n",
    "from sklearn.tree import DecisionTreeClassifier\n",
    "from sklearn.model_selection import RandomizedSearchCV\n",
    "from sklearn import metrics\n",
    "from sklearn import linear_model,preprocessing\n",
    "from sklearn import tree\n",
    "from sklearn.metrics import classification_report\n",
    "from sklearn.model_selection import train_test_split\n",
    "from sklearn.ensemble import RandomForestClassifier \n",
    "from sklearn.metrics import confusion_matrix, accuracy_score, recall_score, roc_curve, auc\n",
    "from sklearn import svm\n",
    "from sklearn.naive_bayes import GaussianNB\n",
    "from sklearn.ensemble import RandomForestClassifier\n",
    "from prettytable import PrettyTable "
   ]
  },
  {
   "cell_type": "markdown",
   "metadata": {},
   "source": [
    "<hr>\n",
    "<br>\n",
    "\n",
    "## 1. Dataset Analysis and Review"
   ]
  },
  {
   "cell_type": "markdown",
   "metadata": {},
   "source": [
    "dataFrame = pd.read_csv('../files/card_transdata.csv')\n",
    "dataFrame.fillna(value=0,inplace=True)\n",
    "dataFrame.head()\n",
    "\n",
    "Attributes:\n",
    " \n",
    "Attribute | Type | Properties | Discrete vs Continuous |\n",
    "| - | - | - | - |\n",
    "| Distance from home | Ratio |  Distinctness, Order, Meaningful differences and Meaningful ratios | Continuous |\n",
    "| Distance from last transaction | Ratio | Distinctness, Order, Meaningful differences and Meaningful ratios | Continuous |\n",
    "| Ratio of purchased price to median purchased price | Ratio |  Distinctness, Order, Meaningful differences and Meaningful ratios | Continuous |\n",
    "| Repeat Retailer | Nominal (binary) | Distinctness | Discrete |\n",
    "| Used chip (used credit card) | Nominal (binary) | Distinctness | Discrete | \n",
    "| Used pin (used pin number) | Nominal (binary) | Distinctness | Discrete |\n",
    "| Online Order | Nominal (binary) | Distinctness | Discrete |\n"
   ]
  },
  {
   "cell_type": "code",
   "execution_count": 107,
   "metadata": {},
   "outputs": [
    {
     "data": {
      "text/html": [
       "<div>\n",
       "<style scoped>\n",
       "    .dataframe tbody tr th:only-of-type {\n",
       "        vertical-align: middle;\n",
       "    }\n",
       "\n",
       "    .dataframe tbody tr th {\n",
       "        vertical-align: top;\n",
       "    }\n",
       "\n",
       "    .dataframe thead th {\n",
       "        text-align: right;\n",
       "    }\n",
       "</style>\n",
       "<table border=\"1\" class=\"dataframe\">\n",
       "  <thead>\n",
       "    <tr style=\"text-align: right;\">\n",
       "      <th></th>\n",
       "      <th>distance_from_home</th>\n",
       "      <th>distance_from_last_transaction</th>\n",
       "      <th>ratio_to_median_purchase_price</th>\n",
       "      <th>repeat_retailer</th>\n",
       "      <th>used_chip</th>\n",
       "      <th>used_pin_number</th>\n",
       "      <th>online_order</th>\n",
       "      <th>fraud</th>\n",
       "    </tr>\n",
       "  </thead>\n",
       "  <tbody>\n",
       "    <tr>\n",
       "      <th>0</th>\n",
       "      <td>57.877857</td>\n",
       "      <td>0.311140</td>\n",
       "      <td>1.945940</td>\n",
       "      <td>1.0</td>\n",
       "      <td>1.0</td>\n",
       "      <td>0.0</td>\n",
       "      <td>0.0</td>\n",
       "      <td>0.0</td>\n",
       "    </tr>\n",
       "    <tr>\n",
       "      <th>1</th>\n",
       "      <td>10.829943</td>\n",
       "      <td>0.175592</td>\n",
       "      <td>1.294219</td>\n",
       "      <td>1.0</td>\n",
       "      <td>0.0</td>\n",
       "      <td>0.0</td>\n",
       "      <td>0.0</td>\n",
       "      <td>0.0</td>\n",
       "    </tr>\n",
       "    <tr>\n",
       "      <th>2</th>\n",
       "      <td>5.091079</td>\n",
       "      <td>0.805153</td>\n",
       "      <td>0.427715</td>\n",
       "      <td>1.0</td>\n",
       "      <td>0.0</td>\n",
       "      <td>0.0</td>\n",
       "      <td>1.0</td>\n",
       "      <td>0.0</td>\n",
       "    </tr>\n",
       "    <tr>\n",
       "      <th>3</th>\n",
       "      <td>2.247564</td>\n",
       "      <td>5.600044</td>\n",
       "      <td>0.362663</td>\n",
       "      <td>1.0</td>\n",
       "      <td>1.0</td>\n",
       "      <td>0.0</td>\n",
       "      <td>1.0</td>\n",
       "      <td>0.0</td>\n",
       "    </tr>\n",
       "    <tr>\n",
       "      <th>4</th>\n",
       "      <td>44.190936</td>\n",
       "      <td>0.566486</td>\n",
       "      <td>2.222767</td>\n",
       "      <td>1.0</td>\n",
       "      <td>1.0</td>\n",
       "      <td>0.0</td>\n",
       "      <td>1.0</td>\n",
       "      <td>0.0</td>\n",
       "    </tr>\n",
       "  </tbody>\n",
       "</table>\n",
       "</div>"
      ],
      "text/plain": [
       "   distance_from_home  distance_from_last_transaction  \\\n",
       "0           57.877857                        0.311140   \n",
       "1           10.829943                        0.175592   \n",
       "2            5.091079                        0.805153   \n",
       "3            2.247564                        5.600044   \n",
       "4           44.190936                        0.566486   \n",
       "\n",
       "   ratio_to_median_purchase_price  repeat_retailer  used_chip  \\\n",
       "0                        1.945940              1.0        1.0   \n",
       "1                        1.294219              1.0        0.0   \n",
       "2                        0.427715              1.0        0.0   \n",
       "3                        0.362663              1.0        1.0   \n",
       "4                        2.222767              1.0        1.0   \n",
       "\n",
       "   used_pin_number  online_order  fraud  \n",
       "0              0.0           0.0    0.0  \n",
       "1              0.0           0.0    0.0  \n",
       "2              0.0           1.0    0.0  \n",
       "3              0.0           1.0    0.0  \n",
       "4              0.0           1.0    0.0  "
      ]
     },
     "execution_count": 107,
     "metadata": {},
     "output_type": "execute_result"
    }
   ],
   "source": [
    "dataFrame = pd.read_csv('../files/card_transdata.csv')\n",
    "dataFrame.fillna(value=0,inplace=True)\n",
    "dataFrame.head()"
   ]
  },
  {
   "cell_type": "markdown",
   "metadata": {},
   "source": [
    "<hr>\n",
    "<br>\n",
    "\n",
    "- Now we are checking if there is any duplicated data.\n",
    "- If yes, we remove duplicated objects.\n",
    "- For this specific dataset, there isn't any duplicated data."
   ]
  },
  {
   "cell_type": "code",
   "execution_count": 108,
   "metadata": {},
   "outputs": [
    {
     "name": "stdout",
     "output_type": "stream",
     "text": [
      "Original dataset length:  1000000\n",
      "Number of dups:  0\n"
     ]
    }
   ],
   "source": [
    "length = len(dataFrame)\n",
    "dataFrame.drop_duplicates(keep = False)\n",
    "cleanedDups = len(dataFrame)\n",
    "\n",
    "print(\"Original dataset length: \", length)\n",
    "print(\"Number of dups: \", length - cleanedDups)"
   ]
  },
  {
   "cell_type": "markdown",
   "metadata": {},
   "source": [
    "<hr>\n",
    "<br>\n",
    "\n",
    "- You can now find basic statistics about our problem."
   ]
  },
  {
   "cell_type": "code",
   "execution_count": 109,
   "metadata": {},
   "outputs": [
    {
     "data": {
      "text/html": [
       "<div>\n",
       "<style scoped>\n",
       "    .dataframe tbody tr th:only-of-type {\n",
       "        vertical-align: middle;\n",
       "    }\n",
       "\n",
       "    .dataframe tbody tr th {\n",
       "        vertical-align: top;\n",
       "    }\n",
       "\n",
       "    .dataframe thead th {\n",
       "        text-align: right;\n",
       "    }\n",
       "</style>\n",
       "<table border=\"1\" class=\"dataframe\">\n",
       "  <thead>\n",
       "    <tr style=\"text-align: right;\">\n",
       "      <th></th>\n",
       "      <th>distance_from_home</th>\n",
       "      <th>distance_from_last_transaction</th>\n",
       "      <th>ratio_to_median_purchase_price</th>\n",
       "      <th>repeat_retailer</th>\n",
       "      <th>used_chip</th>\n",
       "      <th>used_pin_number</th>\n",
       "      <th>online_order</th>\n",
       "      <th>fraud</th>\n",
       "    </tr>\n",
       "  </thead>\n",
       "  <tbody>\n",
       "    <tr>\n",
       "      <th>count</th>\n",
       "      <td>5000.000000</td>\n",
       "      <td>5000.000000</td>\n",
       "      <td>5000.000000</td>\n",
       "      <td>5000.00000</td>\n",
       "      <td>5000.000000</td>\n",
       "      <td>5000.00000</td>\n",
       "      <td>5000.000000</td>\n",
       "      <td>5000.000000</td>\n",
       "    </tr>\n",
       "    <tr>\n",
       "      <th>mean</th>\n",
       "      <td>26.263061</td>\n",
       "      <td>5.249699</td>\n",
       "      <td>1.838163</td>\n",
       "      <td>0.88540</td>\n",
       "      <td>0.351600</td>\n",
       "      <td>0.11020</td>\n",
       "      <td>0.647600</td>\n",
       "      <td>0.092800</td>\n",
       "    </tr>\n",
       "    <tr>\n",
       "      <th>std</th>\n",
       "      <td>59.105958</td>\n",
       "      <td>27.390163</td>\n",
       "      <td>2.768132</td>\n",
       "      <td>0.31857</td>\n",
       "      <td>0.477518</td>\n",
       "      <td>0.31317</td>\n",
       "      <td>0.477766</td>\n",
       "      <td>0.290181</td>\n",
       "    </tr>\n",
       "    <tr>\n",
       "      <th>min</th>\n",
       "      <td>0.053519</td>\n",
       "      <td>0.000676</td>\n",
       "      <td>0.019576</td>\n",
       "      <td>0.00000</td>\n",
       "      <td>0.000000</td>\n",
       "      <td>0.00000</td>\n",
       "      <td>0.000000</td>\n",
       "      <td>0.000000</td>\n",
       "    </tr>\n",
       "    <tr>\n",
       "      <th>25%</th>\n",
       "      <td>3.751740</td>\n",
       "      <td>0.278062</td>\n",
       "      <td>0.456082</td>\n",
       "      <td>1.00000</td>\n",
       "      <td>0.000000</td>\n",
       "      <td>0.00000</td>\n",
       "      <td>0.000000</td>\n",
       "      <td>0.000000</td>\n",
       "    </tr>\n",
       "    <tr>\n",
       "      <th>50%</th>\n",
       "      <td>9.530197</td>\n",
       "      <td>0.985782</td>\n",
       "      <td>0.976432</td>\n",
       "      <td>1.00000</td>\n",
       "      <td>0.000000</td>\n",
       "      <td>0.00000</td>\n",
       "      <td>1.000000</td>\n",
       "      <td>0.000000</td>\n",
       "    </tr>\n",
       "    <tr>\n",
       "      <th>75%</th>\n",
       "      <td>24.959589</td>\n",
       "      <td>3.279281</td>\n",
       "      <td>2.118810</td>\n",
       "      <td>1.00000</td>\n",
       "      <td>1.000000</td>\n",
       "      <td>0.00000</td>\n",
       "      <td>1.000000</td>\n",
       "      <td>0.000000</td>\n",
       "    </tr>\n",
       "    <tr>\n",
       "      <th>max</th>\n",
       "      <td>1512.813857</td>\n",
       "      <td>1408.687641</td>\n",
       "      <td>41.928067</td>\n",
       "      <td>1.00000</td>\n",
       "      <td>1.000000</td>\n",
       "      <td>1.00000</td>\n",
       "      <td>1.000000</td>\n",
       "      <td>1.000000</td>\n",
       "    </tr>\n",
       "  </tbody>\n",
       "</table>\n",
       "</div>"
      ],
      "text/plain": [
       "       distance_from_home  distance_from_last_transaction  \\\n",
       "count         5000.000000                     5000.000000   \n",
       "mean            26.263061                        5.249699   \n",
       "std             59.105958                       27.390163   \n",
       "min              0.053519                        0.000676   \n",
       "25%              3.751740                        0.278062   \n",
       "50%              9.530197                        0.985782   \n",
       "75%             24.959589                        3.279281   \n",
       "max           1512.813857                     1408.687641   \n",
       "\n",
       "       ratio_to_median_purchase_price  repeat_retailer    used_chip  \\\n",
       "count                     5000.000000       5000.00000  5000.000000   \n",
       "mean                         1.838163          0.88540     0.351600   \n",
       "std                          2.768132          0.31857     0.477518   \n",
       "min                          0.019576          0.00000     0.000000   \n",
       "25%                          0.456082          1.00000     0.000000   \n",
       "50%                          0.976432          1.00000     0.000000   \n",
       "75%                          2.118810          1.00000     1.000000   \n",
       "max                         41.928067          1.00000     1.000000   \n",
       "\n",
       "       used_pin_number  online_order        fraud  \n",
       "count       5000.00000   5000.000000  5000.000000  \n",
       "mean           0.11020      0.647600     0.092800  \n",
       "std            0.31317      0.477766     0.290181  \n",
       "min            0.00000      0.000000     0.000000  \n",
       "25%            0.00000      0.000000     0.000000  \n",
       "50%            0.00000      1.000000     0.000000  \n",
       "75%            0.00000      1.000000     0.000000  \n",
       "max            1.00000      1.000000     1.000000  "
      ]
     },
     "execution_count": 109,
     "metadata": {},
     "output_type": "execute_result"
    }
   ],
   "source": [
    "dataFrame = dataFrame.sample(5000)\n",
    "dataFrame.describe()"
   ]
  },
  {
   "cell_type": "markdown",
   "metadata": {},
   "source": [
    "<hr>\n",
    "<br>\n",
    "\n",
    "sdfgsdg"
   ]
  },
  {
   "cell_type": "markdown",
   "metadata": {},
   "source": [
    "<hr>\n",
    "<br>\n",
    "\n",
    "- In this step, we use a sample of our dataset since the given one is too long, reaching 1000000 objects.\n",
    "- After that, we create two new datasets: one only containing fraudlent transactions (fraud attribute = 1) and another contaning only non-fraudlent transactions (fraud attribute = 0)"
   ]
  },
  {
   "cell_type": "code",
   "execution_count": 110,
   "metadata": {},
   "outputs": [],
   "source": [
    "#No fraud (class == 0) meaning legit transactions\n",
    "#Fraud (class == 1) meaning fraudulent transactions\n",
    "\n",
    "#Creating new data frames for No fraud and Fraud cases\n",
    "no_fraud=dataFrame[dataFrame.fraud == 0]\n",
    "fraud=dataFrame[dataFrame.fraud == 1]\n",
    "\n",
    "#Resampling the original dataset with 10,000 datapoints\n",
    "no_fraud_resample=no_fraud.sample(n=100)\n",
    "fraud_resample=fraud.sample(n=100)\n",
    "\n",
    "#Creating new dataset consisting of equal class occurence \n",
    "data=pd.concat([no_fraud_resample,fraud_resample],axis=0)"
   ]
  },
  {
   "cell_type": "code",
   "execution_count": 111,
   "metadata": {},
   "outputs": [
    {
     "data": {
      "text/plain": [
       "<seaborn.axisgrid.PairGrid at 0x7f264c61adf0>"
      ]
     },
     "execution_count": 111,
     "metadata": {},
     "output_type": "execute_result"
    },
    {
     "data": {
      "image/png": "[encoded data removed]",
      "text/plain": [
       "<Figure size 591.875x540 with 12 Axes>"
      ]
     },
     "metadata": {
      "needs_background": "light"
     },
     "output_type": "display_data"
    }
   ],
   "source": [
    "%matplotlib inline\n",
    "\n",
    "sns.pairplot(dataFrame, vars =[\"distance_from_home\", \"distance_from_last_transaction\", \"ratio_to_median_purchase_price\"], hue = 'fraud')"
   ]
  },
  {
   "cell_type": "code",
   "execution_count": 112,
   "metadata": {},
   "outputs": [
    {
     "ename": "TypeError",
     "evalue": "Cannot perform 'rand_' with a dtyped [float64] array and scalar of type [bool]",
     "output_type": "error",
     "traceback": [
      "\u001b[0;31m---------------------------------------------------------------------------\u001b[0m",
      "\u001b[0;31mTypeError\u001b[0m                                 Traceback (most recent call last)",
      "File \u001b[0;32m~/.local/lib/python3.9/site-packages/pandas/core/ops/array_ops.py:301\u001b[0m, in \u001b[0;36mna_logical_op\u001b[0;34m(x, y, op)\u001b[0m\n\u001b[1;32m    <a href='file:///home/lu/.local/lib/python3.9/site-packages/pandas/core/ops/array_ops.py?line=291'>292</a>\u001b[0m \u001b[39mtry\u001b[39;00m:\n\u001b[1;32m    <a href='file:///home/lu/.local/lib/python3.9/site-packages/pandas/core/ops/array_ops.py?line=292'>293</a>\u001b[0m     \u001b[39m# For exposition, write:\u001b[39;00m\n\u001b[1;32m    <a href='file:///home/lu/.local/lib/python3.9/site-packages/pandas/core/ops/array_ops.py?line=293'>294</a>\u001b[0m     \u001b[39m#  yarr = isinstance(y, np.ndarray)\u001b[39;00m\n\u001b[0;32m   (...)\u001b[0m\n\u001b[1;32m    <a href='file:///home/lu/.local/lib/python3.9/site-packages/pandas/core/ops/array_ops.py?line=298'>299</a>\u001b[0m     \u001b[39m# Then Cases where this goes through without raising include:\u001b[39;00m\n\u001b[1;32m    <a href='file:///home/lu/.local/lib/python3.9/site-packages/pandas/core/ops/array_ops.py?line=299'>300</a>\u001b[0m     \u001b[39m#  (xint or xbool) and (yint or bool)\u001b[39;00m\n\u001b[0;32m--> <a href='file:///home/lu/.local/lib/python3.9/site-packages/pandas/core/ops/array_ops.py?line=300'>301</a>\u001b[0m     result \u001b[39m=\u001b[39m op(x, y)\n\u001b[1;32m    <a href='file:///home/lu/.local/lib/python3.9/site-packages/pandas/core/ops/array_ops.py?line=301'>302</a>\u001b[0m \u001b[39mexcept\u001b[39;00m \u001b[39mTypeError\u001b[39;00m:\n",
      "File \u001b[0;32m~/.local/lib/python3.9/site-packages/pandas/core/roperator.py:52\u001b[0m, in \u001b[0;36mrand_\u001b[0;34m(left, right)\u001b[0m\n\u001b[1;32m     <a href='file:///home/lu/.local/lib/python3.9/site-packages/pandas/core/roperator.py?line=50'>51</a>\u001b[0m \u001b[39mdef\u001b[39;00m \u001b[39mrand_\u001b[39m(left, right):\n\u001b[0;32m---> <a href='file:///home/lu/.local/lib/python3.9/site-packages/pandas/core/roperator.py?line=51'>52</a>\u001b[0m     \u001b[39mreturn\u001b[39;00m operator\u001b[39m.\u001b[39;49mand_(right, left)\n",
      "\u001b[0;31mTypeError\u001b[0m: ufunc 'bitwise_and' not supported for the input types, and the inputs could not be safely coerced to any supported types according to the casting rule ''safe''",
      "\nDuring handling of the above exception, another exception occurred:\n",
      "\u001b[0;31mValueError\u001b[0m                                Traceback (most recent call last)",
      "File \u001b[0;32m~/.local/lib/python3.9/site-packages/pandas/core/ops/array_ops.py:315\u001b[0m, in \u001b[0;36mna_logical_op\u001b[0;34m(x, y, op)\u001b[0m\n\u001b[1;32m    <a href='file:///home/lu/.local/lib/python3.9/site-packages/pandas/core/ops/array_ops.py?line=313'>314</a>\u001b[0m \u001b[39mtry\u001b[39;00m:\n\u001b[0;32m--> <a href='file:///home/lu/.local/lib/python3.9/site-packages/pandas/core/ops/array_ops.py?line=314'>315</a>\u001b[0m     result \u001b[39m=\u001b[39m libops\u001b[39m.\u001b[39;49mscalar_binop(x, y, op)\n\u001b[1;32m    <a href='file:///home/lu/.local/lib/python3.9/site-packages/pandas/core/ops/array_ops.py?line=315'>316</a>\u001b[0m \u001b[39mexcept\u001b[39;00m (\n\u001b[1;32m    <a href='file:///home/lu/.local/lib/python3.9/site-packages/pandas/core/ops/array_ops.py?line=316'>317</a>\u001b[0m     \u001b[39mTypeError\u001b[39;00m,\n\u001b[1;32m    <a href='file:///home/lu/.local/lib/python3.9/site-packages/pandas/core/ops/array_ops.py?line=317'>318</a>\u001b[0m     \u001b[39mValueError\u001b[39;00m,\n\u001b[0;32m   (...)\u001b[0m\n\u001b[1;32m    <a href='file:///home/lu/.local/lib/python3.9/site-packages/pandas/core/ops/array_ops.py?line=320'>321</a>\u001b[0m     \u001b[39mNotImplementedError\u001b[39;00m,\n\u001b[1;32m    <a href='file:///home/lu/.local/lib/python3.9/site-packages/pandas/core/ops/array_ops.py?line=321'>322</a>\u001b[0m ) \u001b[39mas\u001b[39;00m err:\n",
      "File \u001b[0;32m~/.local/lib/python3.9/site-packages/pandas/_libs/ops.pyx:180\u001b[0m, in \u001b[0;36mpandas._libs.ops.scalar_binop\u001b[0;34m()\u001b[0m\n",
      "\u001b[0;31mValueError\u001b[0m: Buffer dtype mismatch, expected 'Python object' but got 'double'",
      "\nThe above exception was the direct cause of the following exception:\n",
      "\u001b[0;31mTypeError\u001b[0m                                 Traceback (most recent call last)",
      "\u001b[1;32m/home/lu/Desktop/uni/IART/IART-proj2/scr/main.ipynb Cell 16'\u001b[0m in \u001b[0;36m<cell line: 1>\u001b[0;34m()\u001b[0m\n\u001b[0;32m----> <a href='vscode-notebook-cell:/home/lu/Desktop/uni/IART/IART-proj2/scr/main.ipynb#ch0000015?line=0'>1</a>\u001b[0m dataFrame[\u001b[39m'\u001b[39m\u001b[39mdistance_from_home\u001b[39m\u001b[39m'\u001b[39m] \u001b[39m=\u001b[39m np\u001b[39m.\u001b[39mwhere((dataFrame[\u001b[39m'\u001b[39m\u001b[39mdistance_from_home\u001b[39m\u001b[39m'\u001b[39m]\u001b[39m<\u001b[39m\u001b[39m1900\u001b[39;49m \u001b[39m&\u001b[39;49m dataFrame[\u001b[39m'\u001b[39;49m\u001b[39mfraud\u001b[39;49m\u001b[39m'\u001b[39;49m] \u001b[39m==\u001b[39m \u001b[39m0\u001b[39m) \u001b[39m|\u001b[39mdataFrame[\u001b[39m'\u001b[39m\u001b[39mfraud\u001b[39m\u001b[39m'\u001b[39m] \u001b[39m==\u001b[39m \u001b[39m1\u001b[39m)\n\u001b[1;32m      <a href='vscode-notebook-cell:/home/lu/Desktop/uni/IART/IART-proj2/scr/main.ipynb#ch0000015?line=1'>2</a>\u001b[0m \u001b[39m#dataFrame = fraud.loc[(dataFrame['fraud'] == 1) | (dataFrame['distance_from_last_transaction'] >= 10)]\u001b[39;00m\n\u001b[1;32m      <a href='vscode-notebook-cell:/home/lu/Desktop/uni/IART/IART-proj2/scr/main.ipynb#ch0000015?line=2'>3</a>\u001b[0m \u001b[39m#dataFrame = fraud.loc[(dataFrame['fraud'] == 0) | (dataFrame['ratio_to_median_purchase_price'] >= 10)]\u001b[39;00m\n\u001b[1;32m      <a href='vscode-notebook-cell:/home/lu/Desktop/uni/IART/IART-proj2/scr/main.ipynb#ch0000015?line=4'>5</a>\u001b[0m get_ipython()\u001b[39m.\u001b[39mrun_line_magic(\u001b[39m'\u001b[39m\u001b[39mmatplotlib\u001b[39m\u001b[39m'\u001b[39m, \u001b[39m'\u001b[39m\u001b[39minline\u001b[39m\u001b[39m'\u001b[39m)\n",
      "File \u001b[0;32m~/.local/lib/python3.9/site-packages/pandas/core/ops/common.py:70\u001b[0m, in \u001b[0;36m_unpack_zerodim_and_defer.<locals>.new_method\u001b[0;34m(self, other)\u001b[0m\n\u001b[1;32m     <a href='file:///home/lu/.local/lib/python3.9/site-packages/pandas/core/ops/common.py?line=65'>66</a>\u001b[0m             \u001b[39mreturn\u001b[39;00m \u001b[39mNotImplemented\u001b[39m\n\u001b[1;32m     <a href='file:///home/lu/.local/lib/python3.9/site-packages/pandas/core/ops/common.py?line=67'>68</a>\u001b[0m other \u001b[39m=\u001b[39m item_from_zerodim(other)\n\u001b[0;32m---> <a href='file:///home/lu/.local/lib/python3.9/site-packages/pandas/core/ops/common.py?line=69'>70</a>\u001b[0m \u001b[39mreturn\u001b[39;00m method(\u001b[39mself\u001b[39;49m, other)\n",
      "File \u001b[0;32m~/.local/lib/python3.9/site-packages/pandas/core/arraylike.py:74\u001b[0m, in \u001b[0;36mOpsMixin.__rand__\u001b[0;34m(self, other)\u001b[0m\n\u001b[1;32m     <a href='file:///home/lu/.local/lib/python3.9/site-packages/pandas/core/arraylike.py?line=71'>72</a>\u001b[0m \u001b[39m@unpack_zerodim_and_defer\u001b[39m(\u001b[39m\"\u001b[39m\u001b[39m__rand__\u001b[39m\u001b[39m\"\u001b[39m)\n\u001b[1;32m     <a href='file:///home/lu/.local/lib/python3.9/site-packages/pandas/core/arraylike.py?line=72'>73</a>\u001b[0m \u001b[39mdef\u001b[39;00m \u001b[39m__rand__\u001b[39m(\u001b[39mself\u001b[39m, other):\n\u001b[0;32m---> <a href='file:///home/lu/.local/lib/python3.9/site-packages/pandas/core/arraylike.py?line=73'>74</a>\u001b[0m     \u001b[39mreturn\u001b[39;00m \u001b[39mself\u001b[39;49m\u001b[39m.\u001b[39;49m_logical_method(other, roperator\u001b[39m.\u001b[39;49mrand_)\n",
      "File \u001b[0;32m~/.local/lib/python3.9/site-packages/pandas/core/series.py:5634\u001b[0m, in \u001b[0;36mSeries._logical_method\u001b[0;34m(self, other, op)\u001b[0m\n\u001b[1;32m   <a href='file:///home/lu/.local/lib/python3.9/site-packages/pandas/core/series.py?line=5630'>5631</a>\u001b[0m lvalues \u001b[39m=\u001b[39m \u001b[39mself\u001b[39m\u001b[39m.\u001b[39m_values\n\u001b[1;32m   <a href='file:///home/lu/.local/lib/python3.9/site-packages/pandas/core/series.py?line=5631'>5632</a>\u001b[0m rvalues \u001b[39m=\u001b[39m extract_array(other, extract_numpy\u001b[39m=\u001b[39m\u001b[39mTrue\u001b[39;00m, extract_range\u001b[39m=\u001b[39m\u001b[39mTrue\u001b[39;00m)\n\u001b[0;32m-> <a href='file:///home/lu/.local/lib/python3.9/site-packages/pandas/core/series.py?line=5633'>5634</a>\u001b[0m res_values \u001b[39m=\u001b[39m ops\u001b[39m.\u001b[39;49mlogical_op(lvalues, rvalues, op)\n\u001b[1;32m   <a href='file:///home/lu/.local/lib/python3.9/site-packages/pandas/core/series.py?line=5634'>5635</a>\u001b[0m \u001b[39mreturn\u001b[39;00m \u001b[39mself\u001b[39m\u001b[39m.\u001b[39m_construct_result(res_values, name\u001b[39m=\u001b[39mres_name)\n",
      "File \u001b[0;32m~/.local/lib/python3.9/site-packages/pandas/core/ops/array_ops.py:391\u001b[0m, in \u001b[0;36mlogical_op\u001b[0;34m(left, right, op)\u001b[0m\n\u001b[1;32m    <a href='file:///home/lu/.local/lib/python3.9/site-packages/pandas/core/ops/array_ops.py?line=386'>387</a>\u001b[0m \u001b[39m# For int vs int `^`, `|`, `&` are bitwise operators and return\u001b[39;00m\n\u001b[1;32m    <a href='file:///home/lu/.local/lib/python3.9/site-packages/pandas/core/ops/array_ops.py?line=387'>388</a>\u001b[0m \u001b[39m#   integer dtypes.  Otherwise these are boolean ops\u001b[39;00m\n\u001b[1;32m    <a href='file:///home/lu/.local/lib/python3.9/site-packages/pandas/core/ops/array_ops.py?line=388'>389</a>\u001b[0m filler \u001b[39m=\u001b[39m fill_int \u001b[39mif\u001b[39;00m is_self_int_dtype \u001b[39mand\u001b[39;00m is_other_int_dtype \u001b[39melse\u001b[39;00m fill_bool\n\u001b[0;32m--> <a href='file:///home/lu/.local/lib/python3.9/site-packages/pandas/core/ops/array_ops.py?line=390'>391</a>\u001b[0m res_values \u001b[39m=\u001b[39m na_logical_op(lvalues, rvalues, op)\n\u001b[1;32m    <a href='file:///home/lu/.local/lib/python3.9/site-packages/pandas/core/ops/array_ops.py?line=391'>392</a>\u001b[0m \u001b[39m# error: Cannot call function of unknown type\u001b[39;00m\n\u001b[1;32m    <a href='file:///home/lu/.local/lib/python3.9/site-packages/pandas/core/ops/array_ops.py?line=392'>393</a>\u001b[0m res_values \u001b[39m=\u001b[39m filler(res_values)  \u001b[39m# type: ignore[operator]\u001b[39;00m\n",
      "File \u001b[0;32m~/.local/lib/python3.9/site-packages/pandas/core/ops/array_ops.py:324\u001b[0m, in \u001b[0;36mna_logical_op\u001b[0;34m(x, y, op)\u001b[0m\n\u001b[1;32m    <a href='file:///home/lu/.local/lib/python3.9/site-packages/pandas/core/ops/array_ops.py?line=315'>316</a>\u001b[0m         \u001b[39mexcept\u001b[39;00m (\n\u001b[1;32m    <a href='file:///home/lu/.local/lib/python3.9/site-packages/pandas/core/ops/array_ops.py?line=316'>317</a>\u001b[0m             \u001b[39mTypeError\u001b[39;00m,\n\u001b[1;32m    <a href='file:///home/lu/.local/lib/python3.9/site-packages/pandas/core/ops/array_ops.py?line=317'>318</a>\u001b[0m             \u001b[39mValueError\u001b[39;00m,\n\u001b[0;32m   (...)\u001b[0m\n\u001b[1;32m    <a href='file:///home/lu/.local/lib/python3.9/site-packages/pandas/core/ops/array_ops.py?line=320'>321</a>\u001b[0m             \u001b[39mNotImplementedError\u001b[39;00m,\n\u001b[1;32m    <a href='file:///home/lu/.local/lib/python3.9/site-packages/pandas/core/ops/array_ops.py?line=321'>322</a>\u001b[0m         ) \u001b[39mas\u001b[39;00m err:\n\u001b[1;32m    <a href='file:///home/lu/.local/lib/python3.9/site-packages/pandas/core/ops/array_ops.py?line=322'>323</a>\u001b[0m             typ \u001b[39m=\u001b[39m \u001b[39mtype\u001b[39m(y)\u001b[39m.\u001b[39m\u001b[39m__name__\u001b[39m\n\u001b[0;32m--> <a href='file:///home/lu/.local/lib/python3.9/site-packages/pandas/core/ops/array_ops.py?line=323'>324</a>\u001b[0m             \u001b[39mraise\u001b[39;00m \u001b[39mTypeError\u001b[39;00m(\n\u001b[1;32m    <a href='file:///home/lu/.local/lib/python3.9/site-packages/pandas/core/ops/array_ops.py?line=324'>325</a>\u001b[0m                 \u001b[39mf\u001b[39m\u001b[39m\"\u001b[39m\u001b[39mCannot perform \u001b[39m\u001b[39m'\u001b[39m\u001b[39m{\u001b[39;00mop\u001b[39m.\u001b[39m\u001b[39m__name__\u001b[39m\u001b[39m}\u001b[39;00m\u001b[39m'\u001b[39m\u001b[39m with a dtyped [\u001b[39m\u001b[39m{\u001b[39;00mx\u001b[39m.\u001b[39mdtype\u001b[39m}\u001b[39;00m\u001b[39m] array \u001b[39m\u001b[39m\"\u001b[39m\n\u001b[1;32m    <a href='file:///home/lu/.local/lib/python3.9/site-packages/pandas/core/ops/array_ops.py?line=325'>326</a>\u001b[0m                 \u001b[39mf\u001b[39m\u001b[39m\"\u001b[39m\u001b[39mand scalar of type [\u001b[39m\u001b[39m{\u001b[39;00mtyp\u001b[39m}\u001b[39;00m\u001b[39m]\u001b[39m\u001b[39m\"\u001b[39m\n\u001b[1;32m    <a href='file:///home/lu/.local/lib/python3.9/site-packages/pandas/core/ops/array_ops.py?line=326'>327</a>\u001b[0m             ) \u001b[39mfrom\u001b[39;00m \u001b[39merr\u001b[39;00m\n\u001b[1;32m    <a href='file:///home/lu/.local/lib/python3.9/site-packages/pandas/core/ops/array_ops.py?line=328'>329</a>\u001b[0m \u001b[39mreturn\u001b[39;00m result\u001b[39m.\u001b[39mreshape(x\u001b[39m.\u001b[39mshape)\n",
      "\u001b[0;31mTypeError\u001b[0m: Cannot perform 'rand_' with a dtyped [float64] array and scalar of type [bool]"
     ]
    }
   ],
   "source": [
    "#dataFrame['distance_from_home'] = np.where((dataFrame['distance_from_home']<1900 & dataFrame['fraud'] == 0) |dataFrame['fraud'] == 1)\n",
    "#dataFrame = fraud.loc[(dataFrame['fraud'] == 1) | (dataFrame['distance_from_last_transaction'] >= 10)]\n",
    "#dataFrame = fraud.loc[(dataFrame['fraud'] == 0) | (dataFrame['ratio_to_median_purchase_price'] >= 10)]\n",
    "\n",
    "#%matplotlib inline\n",
    "\n",
    "#sns.pairplot(dataFrame, vars =[\"distance_from_home\", \"distance_from_last_transaction\", \"ratio_to_median_purchase_price\"], hue = 'fraud')"
   ]
  },
  {
   "cell_type": "code",
   "execution_count": null,
   "metadata": {},
   "outputs": [
    {
     "ename": "NameError",
     "evalue": "name 'features' is not defined",
     "output_type": "error",
     "traceback": [
      "\u001b[0;31m---------------------------------------------------------------------------\u001b[0m",
      "\u001b[0;31mNameError\u001b[0m                                 Traceback (most recent call last)",
      "\u001b[1;32m/home/lu/Desktop/uni/IART/IART-proj2/scr/main.ipynb Cell 17'\u001b[0m in \u001b[0;36m<cell line: 2>\u001b[0;34m()\u001b[0m\n\u001b[1;32m      <a href='vscode-notebook-cell:/home/lu/Desktop/uni/IART/IART-proj2/scr/main.ipynb#ch0000023?line=0'>1</a>\u001b[0m \u001b[39m#Splitting the dataset\u001b[39;00m\n\u001b[0;32m----> <a href='vscode-notebook-cell:/home/lu/Desktop/uni/IART/IART-proj2/scr/main.ipynb#ch0000023?line=1'>2</a>\u001b[0m train_features,test_features,train_labels,test_labels \u001b[39m=\u001b[39m train_test_split(features,target,stratify\u001b[39m=\u001b[39mtarget,shuffle\u001b[39m=\u001b[39m\u001b[39mTrue\u001b[39;00m,random_state\u001b[39m=\u001b[39m\u001b[39m43\u001b[39m)\n",
      "\u001b[0;31mNameError\u001b[0m: name 'features' is not defined"
     ]
    }
   ],
   "source": [
    "#Splitting the dataset\n",
    "train_features,test_features,train_labels,test_labels = train_test_split(features,target,stratify=target,shuffle=True,random_state=43)"
   ]
  },
  {
   "cell_type": "code",
   "execution_count": null,
   "metadata": {},
   "outputs": [],
   "source": [
    "#Standardising the dataset\n",
    "scale=MinMaxScaler().fit(train_features)\n",
    "train_features_scaled=scale.transform(train_features)\n",
    "test_features_scaled=scale.transform(test_features)"
   ]
  },
  {
   "cell_type": "code",
   "execution_count": null,
   "metadata": {},
   "outputs": [],
   "source": [
    "#Creating empty list to store model evaluation values\n",
    "data_all=[]"
   ]
  },
  {
   "cell_type": "markdown",
   "metadata": {},
   "source": [
    "4. Model Training"
   ]
  },
  {
   "cell_type": "code",
   "execution_count": null,
   "metadata": {},
   "outputs": [],
   "source": [
    "model_name = 'Random Forest'\n",
    "model = RandomForestClassifier()\n",
    "param_rf={\n",
    "    \"n_estimators\": range(2,15,2),\n",
    "    \"max_features\": range(1,7),\n",
    "    \"max_depth\": range(1,10)\n",
    "}\n",
    "\n",
    "random_rf = RandomizedSearchCV(estimator = model, \n",
    "                                param_distributions = param_rf, \n",
    "                                n_iter = 15, \n",
    "                                cv = 10,\n",
    "                                scoring = 'accuracy', \n",
    "                                verbose = 1, \n",
    "                                n_jobs = -1,\n",
    "                                random_state = 1)\n",
    "\n",
    "random_rf.fit(train_features, train_labels)\n",
    "model = random_rf.best_estimator_\n",
    "crossval = cross_val_score(model,\n",
    "                            train_features,\n",
    "                            train_labels,\n",
    "                            cv = 5,\n",
    "                            scoring = 'accuracy')\n",
    "\n",
    "scores = np.mean(crossval)\n",
    "\n",
    "test_pred = model.predict(test_features)\n",
    "test_recall = recall_score(test_labels, \n",
    "                            test_pred, \n",
    "                            pos_label = 1)\n",
    "fpr, tpr, thresholds = roc_curve(test_labels, \n",
    "                                test_pred, \n",
    "                                pos_label = 1)\n",
    "test_auc = auc(fpr, tpr)\n",
    "\n",
    "print('Train acc:', round(scores * 100, 2), '%')\n",
    "print('Test acc:', round(accuracy_score(test_labels, test_pred) * 100, 2), '%')\n",
    "print('Best n_estimators:', random_rf.best_estimator_.get_params()['n_estimators'])\n",
    "print('Best max_features:', random_rf.best_estimator_.get_params()['max_features'])\n",
    "print('Best max_depth:', random_rf.best_estimator_.get_params()['max_depth'])\n",
    "\n",
    "test_pred = model.predict(test_features)\n",
    "cm = confusion_matrix(test_labels, test_pred)\n",
    "clr = classification_report(test_labels, test_pred)\n",
    "plt.figure(figsize=(5, 5))\n",
    "sns.heatmap(cm, \n",
    "            annot = True, \n",
    "            vmin = 0, \n",
    "            fmt = 'g', \n",
    "            cbar = False, \n",
    "            cmap = 'Blues')\n",
    "plt.xlabel(\"Predicted\")\n",
    "plt.ylabel(\"Actual\")\n",
    "plt.title(\"Confusion Matrix:Random Forest\")\n",
    "plt.show()\n",
    "print(clr)\n",
    "\n",
    "if accuracy_score(test_labels, test_pred) - scores < 1:\n",
    "    result_model = 'Good Model'\n",
    "    data_all.append([model,\n",
    "                    scores,\n",
    "                    accuracy_score(test_labels, test_pred),\n",
    "                    test_recall, \n",
    "                    test_auc,\n",
    "                    result_model])\n",
    "else:\n",
    "    result_model = 'Bad Model'\n",
    "    data_all.append([model,\n",
    "                    scores,\n",
    "                    accuracy_score(test_labels, test_pred),\n",
    "                    test_recall,\n",
    "                    test_auc,\n",
    "                    result_model])"
   ]
  },
  {
   "cell_type": "code",
   "execution_count": null,
   "metadata": {},
   "outputs": [
    {
     "name": "stdout",
     "output_type": "stream",
     "text": [
      "Fitting 10 folds for each of 15 candidates, totalling 150 fits\n",
      "[CV] END .....................C=0.1, gamma=0.001, kernel=rbf; total time=   0.0s[CV] END .....................C=0.1, gamma=0.001, kernel=rbf; total time=   0.0s\n",
      "\n",
      "[CV] END .....................C=0.1, gamma=0.001, kernel=rbf; total time=   0.0s\n",
      "[CV] END .....................C=0.1, gamma=0.001, kernel=rbf; total time=   0.0s\n",
      "[CV] END .....................C=0.1, gamma=0.001, kernel=rbf; total time=   0.0s\n",
      "[CV] END .....................C=0.1, gamma=0.001, kernel=rbf; total time=   0.0s\n",
      "[CV] END .....................C=0.1, gamma=0.001, kernel=rbf; total time=   0.0s\n",
      "[CV] END .....................C=0.1, gamma=0.001, kernel=rbf; total time=   0.0s\n",
      "[CV] END .....................C=0.1, gamma=0.001, kernel=rbf; total time=   0.0s\n",
      "[CV] END .....................C=0.1, gamma=0.001, kernel=rbf; total time=   0.0s\n",
      "[CV] END ..........................C=1, gamma=10, kernel=rbf; total time=   0.0s\n",
      "[CV] END ..........................C=1, gamma=10, kernel=rbf; total time=   0.0s\n",
      "[CV] END ..........................C=1, gamma=10, kernel=rbf; total time=   0.0s\n",
      "[CV] END ..........................C=1, gamma=10, kernel=rbf; total time=   0.0s\n",
      "[CV] END ..........................C=1, gamma=10, kernel=rbf; total time=   0.0s\n",
      "[CV] END ..........................C=1, gamma=10, kernel=rbf; total time=   0.0s\n",
      "[CV] END ..........................C=1, gamma=10, kernel=rbf; total time=   0.0s\n",
      "[CV] END ..........................C=1, gamma=10, kernel=rbf; total time=   0.0s\n",
      "[CV] END ..........................C=1, gamma=10, kernel=rbf; total time=   0.0s\n",
      "[CV] END ..........................C=1, gamma=10, kernel=rbf; total time=   0.0s\n",
      "[CV] END ........................C=0.1, gamma=10, kernel=rbf; total time=   0.0s\n",
      "[CV] END ........................C=0.1, gamma=10, kernel=rbf; total time=   0.0s\n",
      "[CV] END ........................C=0.1, gamma=10, kernel=rbf; total time=   0.0s\n",
      "[CV] END ........................C=0.1, gamma=10, kernel=rbf; total time=   0.0s\n",
      "[CV] END ........................C=0.1, gamma=10, kernel=rbf; total time=   0.0s[CV] END ........................C=0.1, gamma=10, kernel=rbf; total time=   0.0s\n",
      "\n",
      "[CV] END ........................C=0.1, gamma=10, kernel=rbf; total time=   0.0s\n",
      "[CV] END ........................C=0.1, gamma=10, kernel=rbf; total time=   0.0s\n",
      "[CV] END ........................C=0.1, gamma=10, kernel=rbf; total time=   0.0s\n",
      "[CV] END ........................C=10, gamma=0.1, kernel=rbf; total time=   0.0s\n",
      "[CV] END ........................C=10, gamma=0.1, kernel=rbf; total time=   0.0s\n",
      "[CV] END ........................C=10, gamma=0.1, kernel=rbf; total time=   0.0s\n",
      "[CV] END ........................C=10, gamma=0.1, kernel=rbf; total time=   0.0s\n",
      "[CV] END ........................C=10, gamma=0.1, kernel=rbf; total time=   0.0s\n",
      "[CV] END ........................C=10, gamma=0.1, kernel=rbf; total time=   0.0s[CV] END ........................C=0.1, gamma=10, kernel=rbf; total time=   0.0s\n",
      "\n",
      "[CV] END ........................C=10, gamma=0.1, kernel=rbf; total time=   0.0s\n",
      "[CV] END ........................C=10, gamma=0.1, kernel=rbf; total time=   0.0s\n",
      "[CV] END ........................C=10, gamma=0.1, kernel=rbf; total time=   0.0s\n",
      "[CV] END ........................C=10, gamma=0.1, kernel=rbf; total time=   0.0s\n",
      "[CV] END .......................C=1, gamma=0.001, kernel=rbf; total time=   0.0s\n",
      "[CV] END .......................C=1, gamma=0.001, kernel=rbf; total time=   0.0s\n",
      "[CV] END .......................C=1, gamma=0.001, kernel=rbf; total time=   0.0s\n",
      "[CV] END .......................C=1, gamma=0.001, kernel=rbf; total time=   0.0s\n",
      "[CV] END .......................C=1, gamma=0.001, kernel=rbf; total time=   0.0s\n",
      "[CV] END .......................C=1, gamma=0.001, kernel=rbf; total time=   0.0s\n",
      "[CV] END .......................C=1, gamma=0.001, kernel=rbf; total time=   0.0s\n",
      "[CV] END .......................C=1, gamma=0.001, kernel=rbf; total time=   0.0s\n",
      "[CV] END .......................C=1, gamma=0.001, kernel=rbf; total time=   0.0s\n",
      "[CV] END .......................C=100, gamma=0.1, kernel=rbf; total time=   0.0s\n",
      "[CV] END .......................C=100, gamma=0.1, kernel=rbf; total time=   0.0s\n",
      "[CV] END .......................C=1, gamma=0.001, kernel=rbf; total time=   0.0s\n",
      "[CV] END .......................C=100, gamma=0.1, kernel=rbf; total time=   0.0s\n",
      "[CV] END .......................C=100, gamma=0.1, kernel=rbf; total time=   0.0s\n",
      "[CV] END .......................C=100, gamma=0.1, kernel=rbf; total time=   0.0s\n",
      "[CV] END .......................C=100, gamma=0.1, kernel=rbf; total time=   0.0s\n",
      "[CV] END .......................C=100, gamma=0.1, kernel=rbf; total time=   0.0s\n",
      "[CV] END ......................C=10, gamma=0.001, kernel=rbf; total time=   0.0s\n",
      "[CV] END .......................C=100, gamma=0.1, kernel=rbf; total time=   0.0s\n",
      "[CV] END ......................C=10, gamma=0.001, kernel=rbf; total time=   0.0s\n",
      "[CV] END ......................C=10, gamma=0.001, kernel=rbf; total time=   0.0s\n",
      "[CV] END .......................C=100, gamma=0.1, kernel=rbf; total time=   0.0s\n",
      "[CV] END ......................C=10, gamma=0.001, kernel=rbf; total time=   0.0s\n",
      "[CV] END ......................C=10, gamma=0.001, kernel=rbf; total time=   0.0s\n",
      "[CV] END ......................C=10, gamma=0.001, kernel=rbf; total time=   0.0s\n",
      "[CV] END .......................C=100, gamma=0.1, kernel=rbf; total time=   0.0s\n",
      "[CV] END ......................C=10, gamma=0.001, kernel=rbf; total time=   0.0s\n",
      "[CV] END ...........................C=1, gamma=1, kernel=rbf; total time=   0.0s\n",
      "[CV] END ......................C=10, gamma=0.001, kernel=rbf; total time=   0.0s\n",
      "[CV] END ...........................C=1, gamma=1, kernel=rbf; total time=   0.0s\n",
      "[CV] END ...........................C=1, gamma=1, kernel=rbf; total time=   0.0s\n",
      "[CV] END ......................C=10, gamma=0.001, kernel=rbf; total time=   0.0s\n",
      "[CV] END ......................C=10, gamma=0.001, kernel=rbf; total time=   0.0s\n",
      "[CV] END ...........................C=1, gamma=1, kernel=rbf; total time=   0.0s\n",
      "[CV] END ...........................C=1, gamma=1, kernel=rbf; total time=   0.0s\n",
      "[CV] END ...........................C=1, gamma=1, kernel=rbf; total time=   0.0s\n",
      "[CV] END ...........................C=1, gamma=1, kernel=rbf; total time=   0.0s\n",
      "[CV] END ...........................C=1, gamma=1, kernel=rbf; total time=   0.0s\n",
      "[CV] END ...........................C=1, gamma=1, kernel=rbf; total time=   0.0s\n",
      "[CV] END .........................C=0.1, gamma=1, kernel=rbf; total time=   0.0s\n",
      "[CV] END .........................C=0.1, gamma=1, kernel=rbf; total time=   0.0s\n",
      "[CV] END ...........................C=1, gamma=1, kernel=rbf; total time=   0.0s[CV] END .........................C=0.1, gamma=1, kernel=rbf; total time=   0.0s\n",
      "\n",
      "[CV] END .........................C=0.1, gamma=1, kernel=rbf; total time=   0.0s\n",
      "[CV] END .........................C=0.1, gamma=1, kernel=rbf; total time=   0.0s\n",
      "[CV] END .........................C=0.1, gamma=1, kernel=rbf; total time=   0.0s\n",
      "[CV] END .........................C=0.1, gamma=1, kernel=rbf; total time=   0.0s\n",
      "[CV] END .....................C=100, gamma=0.001, kernel=rbf; total time=   0.0s\n",
      "[CV] END .........................C=0.1, gamma=1, kernel=rbf; total time=   0.0s\n",
      "[CV] END .........................C=0.1, gamma=1, kernel=rbf; total time=   0.0s\n",
      "[CV] END .....................C=100, gamma=0.001, kernel=rbf; total time=   0.0s\n",
      "[CV] END .........................C=0.1, gamma=1, kernel=rbf; total time=   0.0s\n",
      "[CV] END .....................C=100, gamma=0.001, kernel=rbf; total time=   0.0s\n",
      "[CV] END .....................C=100, gamma=0.001, kernel=rbf; total time=   0.0s\n",
      "[CV] END .......................C=0.1, gamma=0.1, kernel=rbf; total time=   0.0s\n",
      "[CV] END .....................C=100, gamma=0.001, kernel=rbf; total time=   0.0s\n",
      "[CV] END .......................C=0.1, gamma=0.1, kernel=rbf; total time=   0.0s\n",
      "[CV] END .........................C=1, gamma=0.1, kernel=rbf; total time=   0.0s\n",
      "[CV] END .......................C=0.1, gamma=0.1, kernel=rbf; total time=   0.0s\n",
      "[CV] END .....................C=100, gamma=0.001, kernel=rbf; total time=   0.0s[CV] END .......................C=0.1, gamma=0.1, kernel=rbf; total time=   0.0s\n",
      "[CV] END .......................C=0.1, gamma=0.1, kernel=rbf; total time=   0.0s\n",
      "[CV] END .....................C=100, gamma=0.001, kernel=rbf; total time=   0.0s\n",
      "\n",
      "[CV] END .........................C=1, gamma=0.1, kernel=rbf; total time=   0.0s\n",
      "[CV] END .........................C=1, gamma=0.1, kernel=rbf; total time=   0.0s\n",
      "[CV] END .........................C=1, gamma=0.1, kernel=rbf; total time=   0.0s\n",
      "[CV] END .......................C=0.1, gamma=0.1, kernel=rbf; total time=   0.0s\n",
      "[CV] END .......................C=0.1, gamma=0.1, kernel=rbf; total time=   0.0s[CV] END .....................C=100, gamma=0.001, kernel=rbf; total time=   0.0s\n",
      "[CV] END .........................C=1, gamma=0.1, kernel=rbf; total time=   0.0s\n",
      "[CV] END .....................C=100, gamma=0.001, kernel=rbf; total time=   0.0s\n",
      "[CV] END .........................C=1, gamma=0.1, kernel=rbf; total time=   0.0s[CV] END .........................C=1, gamma=0.1, kernel=rbf; total time=   0.0s\n",
      "[CV] END .......................C=0.1, gamma=0.1, kernel=rbf; total time=   0.0s\n",
      "[CV] END .......................C=0.1, gamma=0.1, kernel=rbf; total time=   0.0s\n",
      "\n",
      "[CV] END .........................C=1, gamma=0.1, kernel=rbf; total time=   0.0s\n",
      "[CV] END .....................C=100, gamma=0.001, kernel=rbf; total time=   0.0s\n",
      "[CV] END .........................C=1, gamma=0.1, kernel=rbf; total time=   0.0s\n",
      "\n",
      "[CV] END ..........................C=10, gamma=1, kernel=rbf; total time=   0.0s\n",
      "[CV] END .........................C=1, gamma=0.1, kernel=rbf; total time=   0.0s\n",
      "[CV] END .......................C=0.1, gamma=0.1, kernel=rbf; total time=   0.0s\n",
      "[CV] END ..........................C=10, gamma=1, kernel=rbf; total time=   0.0s\n",
      "[CV] END ..........................C=10, gamma=1, kernel=rbf; total time=   0.0s\n",
      "[CV] END ..........................C=10, gamma=1, kernel=rbf; total time=   0.0s\n",
      "[CV] END ..........................C=10, gamma=1, kernel=rbf; total time=   0.0s\n",
      "[CV] END ..........................C=10, gamma=1, kernel=rbf; total time=   0.0s\n",
      "[CV] END ..........................C=10, gamma=1, kernel=rbf; total time=   0.0s\n",
      "[CV] END ..........................C=10, gamma=1, kernel=rbf; total time=   0.0s\n",
      "[CV] END ..........................C=10, gamma=1, kernel=rbf; total time=   0.0s\n",
      "[CV] END ..........................C=10, gamma=1, kernel=rbf; total time=   0.0s\n",
      "[CV] END .........................C=100, gamma=1, kernel=rbf; total time=   0.0s\n",
      "[CV] END .........................C=100, gamma=1, kernel=rbf; total time=   0.0s\n",
      "[CV] END .........................C=100, gamma=1, kernel=rbf; total time=   0.0s\n",
      "[CV] END .........................C=100, gamma=1, kernel=rbf; total time=   0.0s\n",
      "[CV] END .........................C=100, gamma=1, kernel=rbf; total time=   0.0s\n",
      "[CV] END .........................C=100, gamma=1, kernel=rbf; total time=   0.0s\n",
      "[CV] END .........................C=100, gamma=1, kernel=rbf; total time=   0.0s\n",
      "[CV] END .........................C=100, gamma=1, kernel=rbf; total time=   0.0s\n",
      "[CV] END .........................C=100, gamma=1, kernel=rbf; total time=   0.0s\n",
      "[CV] END .........................C=100, gamma=1, kernel=rbf; total time=   0.0s\n",
      "[CV] END ........................C=100, gamma=10, kernel=rbf; total time=   0.0s\n",
      "[CV] END ........................C=100, gamma=10, kernel=rbf; total time=   0.0s\n",
      "[CV] END ........................C=100, gamma=10, kernel=rbf; total time=   0.0s\n",
      "[CV] END ........................C=100, gamma=10, kernel=rbf; total time=   0.0s\n",
      "[CV] END ........................C=100, gamma=10, kernel=rbf; total time=   0.0s\n",
      "[CV] END ........................C=100, gamma=10, kernel=rbf; total time=   0.0s\n",
      "[CV] END ........................C=100, gamma=10, kernel=rbf; total time=   0.0s\n",
      "[CV] END ........................C=100, gamma=10, kernel=rbf; total time=   0.0s\n",
      "[CV] END ........................C=100, gamma=10, kernel=rbf; total time=   0.0s\n",
      "[CV] END ........................C=100, gamma=10, kernel=rbf; total time=   0.0s\n",
      "Train acc: 95.33 %\n",
      "Test acc: 88.0 %\n",
      "Best C: 100\n",
      "Best gamma: 10\n",
      "Best kernel: rbf\n"
     ]
    },
    {
     "data": {
      "image/png": "[encoded data removed]",
      "text/plain": [
       "<Figure size 360x360 with 1 Axes>"
      ]
     },
     "metadata": {
      "needs_background": "light"
     },
     "output_type": "display_data"
    },
    {
     "name": "stdout",
     "output_type": "stream",
     "text": [
      "Classification Report:\n",
      "----------------------\n",
      "               precision    recall  f1-score   support\n",
      "\n",
      "         0.0       0.88      0.88      0.88        25\n",
      "         1.0       0.88      0.88      0.88        25\n",
      "\n",
      "    accuracy                           0.88        50\n",
      "   macro avg       0.88      0.88      0.88        50\n",
      "weighted avg       0.88      0.88      0.88        50\n",
      "\n"
     ]
    }
   ],
   "source": [
    "data_all=[]\n",
    "model_name='SVM'\n",
    "model= SVC()\n",
    "param_svm={\n",
    "    \"C\":[100,10,1,0.1],\n",
    "    \"gamma\": [10,1,0.1,0.001],\n",
    "    \"kernel\": ['rbf']\n",
    "    }\n",
    "\n",
    "random_svm=RandomizedSearchCV(estimator=model, param_distributions=param_svm, n_iter = 15 , scoring='accuracy', cv = 10, verbose=2, n_jobs=-1,random_state=43)\n",
    "random_svm.fit(train_features_scaled,train_labels)\n",
    "\n",
    "model=random_svm.best_estimator_\n",
    "crossval = cross_val_score(model,train_features_scaled,train_labels,cv=5,scoring='accuracy')\n",
    "scores = np.mean(crossval)\n",
    "\n",
    "test_pred=model.predict(test_features_scaled)\n",
    "test_recall = recall_score(test_labels, test_pred, pos_label=1)\n",
    "fpr, tpr, thresholds = roc_curve(test_labels, test_pred, pos_label=1)\n",
    "test_auc = auc(fpr, tpr)\n",
    "\n",
    "print('Train accuracy:',round(scores*100,2),'%')\n",
    "print('Test accuracy:',round(accuracy_score(test_labels,test_pred)*100,2),'%')\n",
    "print('Best C:',random_svm.best_estimator_.get_params()['C'])\n",
    "print('Best gamma:',random_svm.best_estimator_.get_params()['gamma'])\n",
    "print('Best kernel:',random_svm.best_estimator_.get_params()['kernel']) \n",
    "\n",
    "test_pred=model.predict(test_features_scaled)\n",
    "cm = confusion_matrix(test_labels, test_pred)\n",
    "clr = classification_report(test_labels, test_pred)\n",
    "plt.figure(figsize=(6, 6))\n",
    "sns.heatmap(cm, annot=True, vmin=0, fmt='g', cbar=False, cmap='Greens')\n",
    "plt.xlabel(\"Predicted\")\n",
    "plt.ylabel(\"Actual\")\n",
    "plt.title(\"Confusion Matrix: SVM\")\n",
    "plt.show()\n",
    "print(\"Classification Report:\\n\\n\", clr)\n",
    "\n",
    "if accuracy_score(test_labels,test_pred)-scores <1:\n",
    "    result_model='Good Model'\n",
    "    data_all.append([model_name,scores,accuracy_score(test_labels,test_pred),test_recall,test_auc,result_model])\n",
    "else:\n",
    "    result_model='Failed'\n",
    "    data_all.append([model_name,scores,accuracy_score(test_labels,test_pred),test_recall,test_auc,result_model])"
   ]
  },
  {
   "cell_type": "markdown",
   "metadata": {},
   "source": [
    "Defining a Function for Train and Test split - split is done on 80% train and 20% test (can be altered in test_size value). Initially done including all features."
   ]
  },
  {
   "cell_type": "code",
   "execution_count": null,
   "metadata": {},
   "outputs": [
    {
     "ename": "NameError",
     "evalue": "name 'x_train' is not defined",
     "output_type": "error",
     "traceback": [
      "\u001b[0;31m---------------------------------------------------------------------------\u001b[0m",
      "\u001b[0;31mNameError\u001b[0m                                 Traceback (most recent call last)",
      "\u001b[1;32m/home/lu/Desktop/uni/IART/IART-proj2/scr/main.ipynb Cell 34'\u001b[0m in \u001b[0;36m<cell line: 3>\u001b[0;34m()\u001b[0m\n\u001b[1;32m      <a href='vscode-notebook-cell:/home/lu/Desktop/uni/IART/IART-proj2/scr/main.ipynb#ch0000079?line=0'>1</a>\u001b[0m \u001b[39m# Decision Tree model\u001b[39;00m\n\u001b[1;32m      <a href='vscode-notebook-cell:/home/lu/Desktop/uni/IART/IART-proj2/scr/main.ipynb#ch0000079?line=1'>2</a>\u001b[0m des_tree_model \u001b[39m=\u001b[39m DecisionTreeClassifier()\n\u001b[0;32m----> <a href='vscode-notebook-cell:/home/lu/Desktop/uni/IART/IART-proj2/scr/main.ipynb#ch0000079?line=2'>3</a>\u001b[0m drawing\u001b[39m=\u001b[39m des_tree_model\u001b[39m.\u001b[39mfit(x_train, y_train)\n\u001b[1;32m      <a href='vscode-notebook-cell:/home/lu/Desktop/uni/IART/IART-proj2/scr/main.ipynb#ch0000079?line=3'>4</a>\u001b[0m y_test_pred \u001b[39m=\u001b[39m des_tree_model\u001b[39m.\u001b[39mpredict(x_test)\n\u001b[1;32m      <a href='vscode-notebook-cell:/home/lu/Desktop/uni/IART/IART-proj2/scr/main.ipynb#ch0000079?line=4'>5</a>\u001b[0m y_train_pred \u001b[39m=\u001b[39m des_tree_model\u001b[39m.\u001b[39mpredict(x_train)\n",
      "\u001b[0;31mNameError\u001b[0m: name 'x_train' is not defined"
     ]
    }
   ],
   "source": [
    "# Decision Tree model\n",
    "des_tree_model = DecisionTreeClassifier()\n",
    "drawing= des_tree_model.fit(x_train, y_train)\n",
    "y_test_pred = des_tree_model.predict(x_test)\n",
    "y_train_pred = des_tree_model.predict(x_train)\n",
    "Accuracy_Test=accuracy_score(y_test, y_test_pred) * 100\n",
    "Accuracy_Test= str(Accuracy_Test) + \" %\"\n",
    "Accuracy_Train=accuracy_score(y_train, y_train_pred) * 100\n",
    "Accuracy_Train= str(Accuracy_Train) + \" %\"\n",
    "Train_Data_Score=des_tree_model.score(x_train, y_train) * 100\n",
    "Train_Data_Score= str(Train_Data_Score) + \" %\"\n",
    "\n",
    "\n",
    "#Construction of confusion matrix\n",
    "confmat_train = confusion_matrix(y_train_pred, y_train)\n",
    "confmat_test =  confusion_matrix(y_test_pred, y_test)\n",
    "print (\"\\nConfusion matrix of Train Data\\n\", confmat_train)\n",
    "print (\"\\nConfusion matrix of Test Data\\n\", confmat_test)\n",
    "total=sum(sum(confmat_test))\n",
    "\n",
    "\n",
    "#Calculation of Specificity\n",
    "#Specificity = TN/(TN+FP)\n",
    "sp = confmat_test[1,1]/(confmat_test[1,0]+confmat_test[1,1]) * 100\n",
    "sp= str(sp) + \" %\"\n",
    "\n",
    "\n",
    "#Calculation of sensitivity\n",
    "#Sensitivity= TP/(TP+FN)\n",
    "sensi = confmat_test[0,0]/(confmat_test[0,0]+confmat_test[0,1]) * 100\n",
    "sensi= str(sensi) + \" %\"\n",
    "\n",
    "\n",
    "\n",
    "myTable = PrettyTable([\"Peformance Paramters\", \"Value\"]) \n",
    "#Insert rows\n",
    "myTable.add_row([\"Accuracy of Test Data\",Accuracy_Test]) \n",
    "myTable.add_row([\"Accuracy of Train Data\", Accuracy_Train]) \n",
    "myTable.add_row([\"Data score of Train Data\",Train_Data_Score]) \n",
    "myTable.add_row([\"Specificity of the confusion matrix\",sp]) \n",
    "myTable.add_row([\"Sensitivity of the confusion matrix\",sensi])\n",
    "\n",
    "#print Output\n",
    "print(myTable)"
   ]
  },
  {
   "cell_type": "code",
   "execution_count": null,
   "metadata": {},
   "outputs": [],
   "source": [
    "# Confusion matrix of the Decision Tree\n",
    "import matplotlib.pyplot as plt\n",
    "%matplotlib inline  \n",
    "\n",
    "def plot_confusionmat(cm, lab, test_or_train):\n",
    "    fig = plt.figure()\n",
    "    ax = fig.add_subplot(111)\n",
    "    f = ax.matshow(cm, cmap=plt.cm.turbo)\n",
    "    plt.title('Confusion Matrix of the ' + test_or_train +' Decision Tree \\n')\n",
    "    fig.colorbar(f)\n",
    "    ax.set_xticklabels([''] + lab)\n",
    "    ax.set_yticklabels([''] + lab)\n",
    "    plt.xlabel('Predicted Values')\n",
    "    plt.ylabel('True Values')\n",
    "    s = [['TP','FN'], ['FP', 'TN']]\n",
    "    for k in range(2):\n",
    "        for l in range(2):\n",
    "            plt.text(l,k, str(cm[k][l]))\n",
    "    plt.show()"
   ]
  },
  {
   "cell_type": "code",
   "execution_count": null,
   "metadata": {},
   "outputs": [],
   "source": [
    "plot_confusionmat(confmat_train, [\"0\",\"1\"], \"Training\")\n",
    "plot_confusionmat(confmat_test, [\"0\",\"1\"], \"Testing\")"
   ]
  },
  {
   "cell_type": "code",
   "execution_count": null,
   "metadata": {},
   "outputs": [],
   "source": [
    "#Decision Tree Drawing :\n",
    "plt.figure(figsize=[60,40])\n",
    "tree.plot_tree(des_tree_model,fontsize=20, rounded=True,impurity=True, precision=2)\n",
    "#tree.plot_tree(drawing,fontsize=20, rounded=True,impurity=True, precision=2)\n",
    "plt.show()"
   ]
  },
  {
   "cell_type": "markdown",
   "metadata": {},
   "source": [
    "1. Modeling"
   ]
  },
  {
   "cell_type": "code",
   "execution_count": null,
   "metadata": {},
   "outputs": [],
   "source": [
    "y = dataFrame['fraud']\n",
    "X = dataFrame.drop('fraud', axis=1)"
   ]
  },
  {
   "cell_type": "code",
   "execution_count": null,
   "metadata": {},
   "outputs": [],
   "source": [
    "X_train, X_test, y_train, y_test = train_test_split(X, y, test_size=0.3, stratify=y)"
   ]
  },
  {
   "cell_type": "markdown",
   "metadata": {},
   "source": [
    "2. Pre-processing"
   ]
  },
  {
   "cell_type": "code",
   "execution_count": null,
   "metadata": {},
   "outputs": [],
   "source": [
    "# List of continuous features\n",
    "conts = list(dataFrame.columns[:3])\n",
    "\n",
    "# List of categorical (0/1) features\n",
    "cats = list(dataFrame.columns[3:-1])\n",
    "\n",
    "transformations = [('continuous', StandardScaler(), conts), ('categorical', OrdinalEncoder(), cats)]\n",
    "pipeline = ColumnTransformer(transformations)"
   ]
  },
  {
   "cell_type": "code",
   "execution_count": null,
   "metadata": {},
   "outputs": [],
   "source": [
    "train_transformed = pipeline.fit_transform(X_train)"
   ]
  },
  {
   "cell_type": "markdown",
   "metadata": {},
   "source": [
    "3. Baseline Model"
   ]
  },
  {
   "cell_type": "code",
   "execution_count": null,
   "metadata": {},
   "outputs": [],
   "source": [
    "baseline = LogisticRegression(max_iter=110)"
   ]
  },
  {
   "cell_type": "code",
   "execution_count": null,
   "metadata": {},
   "outputs": [],
   "source": [
    "baseline.fit(train_transformed, y_train)"
   ]
  },
  {
   "cell_type": "code",
   "execution_count": null,
   "metadata": {},
   "outputs": [],
   "source": [
    "test_transformed = pipeline.transform(X_test)\n",
    "\n",
    "baseline_preds = baseline.predict(test_transformed)"
   ]
  },
  {
   "cell_type": "code",
   "execution_count": null,
   "metadata": {},
   "outputs": [],
   "source": [
    "baseline.score(test_transformed, y_test)"
   ]
  },
  {
   "cell_type": "code",
   "execution_count": null,
   "metadata": {},
   "outputs": [],
   "source": [
    "confusion_matrix(y_test, baseline_preds)"
   ]
  },
  {
   "cell_type": "code",
   "execution_count": null,
   "metadata": {},
   "outputs": [],
   "source": [
    "precision_score(y_test, baseline_preds)"
   ]
  },
  {
   "cell_type": "code",
   "execution_count": null,
   "metadata": {},
   "outputs": [],
   "source": [
    "recall_score(y_test, baseline_preds)"
   ]
  },
  {
   "cell_type": "markdown",
   "metadata": {},
   "source": [
    "4. Complex Model"
   ]
  },
  {
   "cell_type": "code",
   "execution_count": null,
   "metadata": {},
   "outputs": [],
   "source": [
    "svc_clf = SVC(kernel='rbf', gamma='auto')"
   ]
  },
  {
   "cell_type": "code",
   "execution_count": null,
   "metadata": {},
   "outputs": [],
   "source": [
    "svc_clf.fit(train_transformed, y_train)"
   ]
  },
  {
   "cell_type": "code",
   "execution_count": null,
   "metadata": {},
   "outputs": [],
   "source": [
    "svc_clf.score(test_transformed, y_test)"
   ]
  },
  {
   "cell_type": "code",
   "execution_count": null,
   "metadata": {},
   "outputs": [],
   "source": [
    "svc_preds = svc_clf.predict(test_transformed)"
   ]
  },
  {
   "cell_type": "code",
   "execution_count": null,
   "metadata": {},
   "outputs": [],
   "source": [
    "confusion_matrix(y_test, svc_preds)"
   ]
  },
  {
   "cell_type": "code",
   "execution_count": null,
   "metadata": {},
   "outputs": [],
   "source": [
    "precision_score(y_test, svc_preds)"
   ]
  },
  {
   "cell_type": "code",
   "execution_count": null,
   "metadata": {},
   "outputs": [],
   "source": [
    "recall_score(y_test, svc_preds)"
   ]
  },
  {
   "cell_type": "code",
   "execution_count": null,
   "metadata": {},
   "outputs": [],
   "source": []
  }
 ],
 "metadata": {
  "interpreter": {
   "hash": "916dbcbb3f70747c44a77c7bcd40155683ae19c65e1c03b4aa3499c5328201f1"
  },
  "kernelspec": {
   "display_name": "Python 3.9.7 64-bit",
   "language": "python",
   "name": "python3"
  },
  "language_info": {
   "codemirror_mode": {
    "name": "ipython",
    "version": 3
   },
   "file_extension": ".py",
   "mimetype": "text/x-python",
   "name": "python",
   "nbconvert_exporter": "python",
   "pygments_lexer": "ipython3",
   "version": "3.9.7"
  }
 },
 "nbformat": 4,
 "nbformat_minor": 2
}
