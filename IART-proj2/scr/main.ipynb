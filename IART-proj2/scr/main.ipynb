{
 "cells": [
  {
   "cell_type": "markdown",
   "metadata": {},
   "source": []
  },
  {
   "cell_type": "markdown",
   "metadata": {},
   "source": [
    "# Artificial Intelligence - 2nd Assignment"
   ]
  },
  {
   "cell_type": "markdown",
   "metadata": {},
   "source": [
    "- Firstly, we import the necessary libraries, packages and methods."
   ]
  },
  {
   "cell_type": "code",
   "execution_count": 12,
   "metadata": {},
   "outputs": [],
   "source": [
    "import pandas as pd\n",
    "import numpy as np\n",
    "import matplotlib.pyplot as plt\n",
    "import seaborn as sns\n",
    "import warnings\n",
    "# Machine Learning\n",
    "from scipy import stats\n",
    "from sklearn.svm import SVC\n",
    "from sklearn.compose import ColumnTransformer\n",
    "from sklearn.feature_selection import SelectKBest\n",
    "from sklearn.feature_selection import f_classif\n",
    "from sklearn.metrics import accuracy_score\n",
    "from sklearn.metrics import precision_recall_curve,roc_curve,roc_auc_score\n",
    "from sklearn.metrics import auc\n",
    "from sklearn.model_selection import cross_val_score\n",
    "from sklearn.preprocessing import StandardScaler\n",
    "from sklearn.preprocessing import OrdinalEncoder\n",
    "from sklearn.preprocessing import MinMaxScaler \n",
    "from sklearn.metrics import confusion_matrix, precision_score, recall_score\n",
    "from sklearn.model_selection import  train_test_split\n",
    "from sklearn.linear_model import LogisticRegression\n",
    "from sklearn.tree import DecisionTreeClassifier\n",
    "from sklearn.model_selection import RandomizedSearchCV\n",
    "from sklearn import metrics\n",
    "from sklearn import linear_model,preprocessing\n",
    "from sklearn import tree\n",
    "from sklearn.metrics import classification_report\n",
    "from sklearn.model_selection import train_test_split\n",
    "from sklearn.ensemble import RandomForestClassifier \n",
    "from sklearn.metrics import confusion_matrix, accuracy_score, recall_score, roc_curve, auc\n",
    "from sklearn import svm\n",
    "from sklearn.naive_bayes import GaussianNB\n",
    "from sklearn.ensemble import RandomForestClassifier\n",
    "from prettytable import PrettyTable "
   ]
  },
  {
   "cell_type": "markdown",
   "metadata": {},
   "source": [
    "<hr>\n",
    "<br>\n",
    "\n",
    "## 1. Dataset Analysis and Review"
   ]
  },
  {
   "cell_type": "markdown",
   "metadata": {},
   "source": [
    "dataFrame = pd.read_csv('../files/card_transdata.csv')\n",
    "dataFrame.fillna(value=0,inplace=True)\n",
    "dataFrame.head()\n",
    "\n",
    "Attributes:\n",
    " \n",
    "Attribute | Type | Properties | Discrete vs Continuous |\n",
    "| - | - | - | - |\n",
    "| Distance from home | Ratio |  Distinctness, Order, Meaningful differences and Meaningful ratios | Continuous |\n",
    "| Distance from last transaction | Ratio | Distinctness, Order, Meaningful differences and Meaningful ratios | Continuous |\n",
    "| Ratio of purchased price to median purchased price | Ratio |  Distinctness, Order, Meaningful differences and Meaningful ratios | Continuous |\n",
    "| Repeat Retailer | Nominal (binary) | Distinctness | Discrete |\n",
    "| Used chip (used credit card) | Nominal (binary) | Distinctness | Discrete | \n",
    "| Used pin (used pin number) | Nominal (binary) | Distinctness | Discrete |\n",
    "| Online Order | Nominal (binary) | Distinctness | Discrete |\n"
   ]
  },
  {
   "cell_type": "code",
   "execution_count": 13,
   "metadata": {},
   "outputs": [
    {
     "data": {
      "text/html": [
       "<div>\n",
       "<style scoped>\n",
       "    .dataframe tbody tr th:only-of-type {\n",
       "        vertical-align: middle;\n",
       "    }\n",
       "\n",
       "    .dataframe tbody tr th {\n",
       "        vertical-align: top;\n",
       "    }\n",
       "\n",
       "    .dataframe thead th {\n",
       "        text-align: right;\n",
       "    }\n",
       "</style>\n",
       "<table border=\"1\" class=\"dataframe\">\n",
       "  <thead>\n",
       "    <tr style=\"text-align: right;\">\n",
       "      <th></th>\n",
       "      <th>distance_from_home</th>\n",
       "      <th>distance_from_last_transaction</th>\n",
       "      <th>ratio_to_median_purchase_price</th>\n",
       "      <th>repeat_retailer</th>\n",
       "      <th>used_chip</th>\n",
       "      <th>used_pin_number</th>\n",
       "      <th>online_order</th>\n",
       "      <th>fraud</th>\n",
       "    </tr>\n",
       "  </thead>\n",
       "  <tbody>\n",
       "    <tr>\n",
       "      <th>0</th>\n",
       "      <td>57.877857</td>\n",
       "      <td>0.311140</td>\n",
       "      <td>1.945940</td>\n",
       "      <td>1.0</td>\n",
       "      <td>1.0</td>\n",
       "      <td>0.0</td>\n",
       "      <td>0.0</td>\n",
       "      <td>0.0</td>\n",
       "    </tr>\n",
       "    <tr>\n",
       "      <th>1</th>\n",
       "      <td>10.829943</td>\n",
       "      <td>0.175592</td>\n",
       "      <td>1.294219</td>\n",
       "      <td>1.0</td>\n",
       "      <td>0.0</td>\n",
       "      <td>0.0</td>\n",
       "      <td>0.0</td>\n",
       "      <td>0.0</td>\n",
       "    </tr>\n",
       "    <tr>\n",
       "      <th>2</th>\n",
       "      <td>5.091079</td>\n",
       "      <td>0.805153</td>\n",
       "      <td>0.427715</td>\n",
       "      <td>1.0</td>\n",
       "      <td>0.0</td>\n",
       "      <td>0.0</td>\n",
       "      <td>1.0</td>\n",
       "      <td>0.0</td>\n",
       "    </tr>\n",
       "    <tr>\n",
       "      <th>3</th>\n",
       "      <td>2.247564</td>\n",
       "      <td>5.600044</td>\n",
       "      <td>0.362663</td>\n",
       "      <td>1.0</td>\n",
       "      <td>1.0</td>\n",
       "      <td>0.0</td>\n",
       "      <td>1.0</td>\n",
       "      <td>0.0</td>\n",
       "    </tr>\n",
       "    <tr>\n",
       "      <th>4</th>\n",
       "      <td>44.190936</td>\n",
       "      <td>0.566486</td>\n",
       "      <td>2.222767</td>\n",
       "      <td>1.0</td>\n",
       "      <td>1.0</td>\n",
       "      <td>0.0</td>\n",
       "      <td>1.0</td>\n",
       "      <td>0.0</td>\n",
       "    </tr>\n",
       "  </tbody>\n",
       "</table>\n",
       "</div>"
      ],
      "text/plain": [
       "   distance_from_home  distance_from_last_transaction  \\\n",
       "0           57.877857                        0.311140   \n",
       "1           10.829943                        0.175592   \n",
       "2            5.091079                        0.805153   \n",
       "3            2.247564                        5.600044   \n",
       "4           44.190936                        0.566486   \n",
       "\n",
       "   ratio_to_median_purchase_price  repeat_retailer  used_chip  \\\n",
       "0                        1.945940              1.0        1.0   \n",
       "1                        1.294219              1.0        0.0   \n",
       "2                        0.427715              1.0        0.0   \n",
       "3                        0.362663              1.0        1.0   \n",
       "4                        2.222767              1.0        1.0   \n",
       "\n",
       "   used_pin_number  online_order  fraud  \n",
       "0              0.0           0.0    0.0  \n",
       "1              0.0           0.0    0.0  \n",
       "2              0.0           1.0    0.0  \n",
       "3              0.0           1.0    0.0  \n",
       "4              0.0           1.0    0.0  "
      ]
     },
     "execution_count": 13,
     "metadata": {},
     "output_type": "execute_result"
    }
   ],
   "source": [
    "dataFrame = pd.read_csv('../files/card_transdata.csv')\n",
    "dataFrame.fillna(value=0,inplace=True)\n",
    "dataFrame.head()"
   ]
  },
  {
   "cell_type": "markdown",
   "metadata": {},
   "source": [
    "<hr>\n",
    "<br>\n",
    "\n",
    "- Now we are checking if there is any duplicated data.\n",
    "- If yes, we remove duplicated objects.\n",
    "- For this specific dataset, there isn't any duplicated data."
   ]
  },
  {
   "cell_type": "code",
   "execution_count": 14,
   "metadata": {},
   "outputs": [
    {
     "name": "stdout",
     "output_type": "stream",
     "text": [
      "Original dataset length:  1000000\n",
      "Number of dups:  0\n"
     ]
    }
   ],
   "source": [
    "length = len(dataFrame)\n",
    "dataFrame.drop_duplicates(keep = False)\n",
    "cleanedDups = len(dataFrame)\n",
    "\n",
    "print(\"Original dataset length: \", length)\n",
    "print(\"Number of dups: \", length - cleanedDups)"
   ]
  },
  {
   "cell_type": "markdown",
   "metadata": {},
   "source": [
    "<hr>\n",
    "<br>\n",
    "\n",
    "- You can now find basic statistics about our problem."
   ]
  },
  {
   "cell_type": "code",
   "execution_count": 15,
   "metadata": {},
   "outputs": [
    {
     "data": {
      "text/html": [
       "<div>\n",
       "<style scoped>\n",
       "    .dataframe tbody tr th:only-of-type {\n",
       "        vertical-align: middle;\n",
       "    }\n",
       "\n",
       "    .dataframe tbody tr th {\n",
       "        vertical-align: top;\n",
       "    }\n",
       "\n",
       "    .dataframe thead th {\n",
       "        text-align: right;\n",
       "    }\n",
       "</style>\n",
       "<table border=\"1\" class=\"dataframe\">\n",
       "  <thead>\n",
       "    <tr style=\"text-align: right;\">\n",
       "      <th></th>\n",
       "      <th>distance_from_home</th>\n",
       "      <th>distance_from_last_transaction</th>\n",
       "      <th>ratio_to_median_purchase_price</th>\n",
       "      <th>repeat_retailer</th>\n",
       "      <th>used_chip</th>\n",
       "      <th>used_pin_number</th>\n",
       "      <th>online_order</th>\n",
       "      <th>fraud</th>\n",
       "    </tr>\n",
       "  </thead>\n",
       "  <tbody>\n",
       "    <tr>\n",
       "      <th>count</th>\n",
       "      <td>5000.000000</td>\n",
       "      <td>5000.000000</td>\n",
       "      <td>5000.000000</td>\n",
       "      <td>5000.000000</td>\n",
       "      <td>5000.000000</td>\n",
       "      <td>5000.000000</td>\n",
       "      <td>5000.000000</td>\n",
       "      <td>5000.000000</td>\n",
       "    </tr>\n",
       "    <tr>\n",
       "      <th>mean</th>\n",
       "      <td>25.791503</td>\n",
       "      <td>5.023773</td>\n",
       "      <td>1.871042</td>\n",
       "      <td>0.889600</td>\n",
       "      <td>0.345800</td>\n",
       "      <td>0.102200</td>\n",
       "      <td>0.664800</td>\n",
       "      <td>0.091600</td>\n",
       "    </tr>\n",
       "    <tr>\n",
       "      <th>std</th>\n",
       "      <td>61.981166</td>\n",
       "      <td>23.024760</td>\n",
       "      <td>2.814588</td>\n",
       "      <td>0.313419</td>\n",
       "      <td>0.475676</td>\n",
       "      <td>0.302941</td>\n",
       "      <td>0.472108</td>\n",
       "      <td>0.288489</td>\n",
       "    </tr>\n",
       "    <tr>\n",
       "      <th>min</th>\n",
       "      <td>0.065852</td>\n",
       "      <td>0.000856</td>\n",
       "      <td>0.019738</td>\n",
       "      <td>0.000000</td>\n",
       "      <td>0.000000</td>\n",
       "      <td>0.000000</td>\n",
       "      <td>0.000000</td>\n",
       "      <td>0.000000</td>\n",
       "    </tr>\n",
       "    <tr>\n",
       "      <th>25%</th>\n",
       "      <td>4.032765</td>\n",
       "      <td>0.296642</td>\n",
       "      <td>0.477030</td>\n",
       "      <td>1.000000</td>\n",
       "      <td>0.000000</td>\n",
       "      <td>0.000000</td>\n",
       "      <td>0.000000</td>\n",
       "      <td>0.000000</td>\n",
       "    </tr>\n",
       "    <tr>\n",
       "      <th>50%</th>\n",
       "      <td>9.749312</td>\n",
       "      <td>0.996962</td>\n",
       "      <td>1.029526</td>\n",
       "      <td>1.000000</td>\n",
       "      <td>0.000000</td>\n",
       "      <td>0.000000</td>\n",
       "      <td>1.000000</td>\n",
       "      <td>0.000000</td>\n",
       "    </tr>\n",
       "    <tr>\n",
       "      <th>75%</th>\n",
       "      <td>25.130603</td>\n",
       "      <td>3.283386</td>\n",
       "      <td>2.129099</td>\n",
       "      <td>1.000000</td>\n",
       "      <td>1.000000</td>\n",
       "      <td>0.000000</td>\n",
       "      <td>1.000000</td>\n",
       "      <td>0.000000</td>\n",
       "    </tr>\n",
       "    <tr>\n",
       "      <th>max</th>\n",
       "      <td>1957.668055</td>\n",
       "      <td>1160.767439</td>\n",
       "      <td>61.998225</td>\n",
       "      <td>1.000000</td>\n",
       "      <td>1.000000</td>\n",
       "      <td>1.000000</td>\n",
       "      <td>1.000000</td>\n",
       "      <td>1.000000</td>\n",
       "    </tr>\n",
       "  </tbody>\n",
       "</table>\n",
       "</div>"
      ],
      "text/plain": [
       "       distance_from_home  distance_from_last_transaction  \\\n",
       "count         5000.000000                     5000.000000   \n",
       "mean            25.791503                        5.023773   \n",
       "std             61.981166                       23.024760   \n",
       "min              0.065852                        0.000856   \n",
       "25%              4.032765                        0.296642   \n",
       "50%              9.749312                        0.996962   \n",
       "75%             25.130603                        3.283386   \n",
       "max           1957.668055                     1160.767439   \n",
       "\n",
       "       ratio_to_median_purchase_price  repeat_retailer    used_chip  \\\n",
       "count                     5000.000000      5000.000000  5000.000000   \n",
       "mean                         1.871042         0.889600     0.345800   \n",
       "std                          2.814588         0.313419     0.475676   \n",
       "min                          0.019738         0.000000     0.000000   \n",
       "25%                          0.477030         1.000000     0.000000   \n",
       "50%                          1.029526         1.000000     0.000000   \n",
       "75%                          2.129099         1.000000     1.000000   \n",
       "max                         61.998225         1.000000     1.000000   \n",
       "\n",
       "       used_pin_number  online_order        fraud  \n",
       "count      5000.000000   5000.000000  5000.000000  \n",
       "mean          0.102200      0.664800     0.091600  \n",
       "std           0.302941      0.472108     0.288489  \n",
       "min           0.000000      0.000000     0.000000  \n",
       "25%           0.000000      0.000000     0.000000  \n",
       "50%           0.000000      1.000000     0.000000  \n",
       "75%           0.000000      1.000000     0.000000  \n",
       "max           1.000000      1.000000     1.000000  "
      ]
     },
     "execution_count": 15,
     "metadata": {},
     "output_type": "execute_result"
    }
   ],
   "source": [
    "dataFrame = dataFrame.sample(5000)\n",
    "dataFrame.describe()"
   ]
  },
  {
   "cell_type": "markdown",
   "metadata": {},
   "source": [
    "<hr>\n",
    "<br>\n",
    "\n",
    "sdfgsdg"
   ]
  },
  {
   "cell_type": "markdown",
   "metadata": {},
   "source": [
    "<hr>\n",
    "<br>\n",
    "\n",
    "- In this step, we use a sample of our dataset since the given one is too long, reaching 1000000 objects.\n",
    "- After that, we create two new datasets: one only containing fraudlent transactions (fraud attribute = 1) and another contaning only non-fraudlent transactions (fraud attribute = 0)"
   ]
  },
  {
   "cell_type": "code",
   "execution_count": 16,
   "metadata": {},
   "outputs": [],
   "source": [
    "#No fraud (class == 0) meaning legit transactions\n",
    "#Fraud (class == 1) meaning fraudulent transactions\n",
    "\n",
    "#Creating new data frames for No fraud and Fraud cases\n",
    "no_fraud=dataFrame[dataFrame.fraud == 0]\n",
    "fraud=dataFrame[dataFrame.fraud == 1]\n",
    "\n",
    "#Resampling the original dataset with 10,000 datapoints\n",
    "no_fraud_resample=no_fraud.sample(n=100)\n",
    "fraud_resample=fraud.sample(n=100)\n",
    "\n",
    "#Creating new dataset consisting of equal class occurence \n",
    "data=pd.concat([no_fraud_resample,fraud_resample],axis=0)"
   ]
  },
  {
   "cell_type": "code",
   "execution_count": 28,
   "metadata": {},
   "outputs": [
    {
     "data": {
      "text/plain": [
       "<seaborn.axisgrid.PairGrid at 0x7f3b26aaea90>"
      ]
     },
     "execution_count": 28,
     "metadata": {},
     "output_type": "execute_result"
    },
    {
     "data": {
      "image/png": "[encoded data removed]",
      "text/plain": [
       "<Figure size 591.875x540 with 12 Axes>"
      ]
     },
     "metadata": {
      "needs_background": "light"
     },
     "output_type": "display_data"
    }
   ],
   "source": [
    "%matplotlib inline\n",
    "\n",
    "sns.pairplot(dataFrame, vars =[\"distance_from_home\", \"distance_from_last_transaction\", \"ratio_to_median_purchase_price\"], hue = 'fraud')"
   ]
  },
  {
   "cell_type": "code",
   "execution_count": 18,
   "metadata": {},
   "outputs": [],
   "source": [
    "fraud = fraud.loc[(dataFrame['fraud'] == 1) | (dataFrame['distance_from_home'] >= 2000)]"
   ]
  },
  {
   "cell_type": "markdown",
   "metadata": {},
   "source": [
    "3. Preprocessing Data"
   ]
  },
  {
   "cell_type": "markdown",
   "metadata": {},
   "source": [
    "- Removing outliers fom non-nominal attributes"
   ]
  },
  {
   "cell_type": "code",
   "execution_count": 19,
   "metadata": {},
   "outputs": [
    {
     "name": "stderr",
     "output_type": "stream",
     "text": [
      "/home/lu/.local/lib/python3.9/site-packages/seaborn/distributions.py:2619: FutureWarning: `distplot` is a deprecated function and will be removed in a future version. Please adapt your code to use either `displot` (a figure-level function with similar flexibility) or `histplot` (an axes-level function for histograms).\n",
      "  warnings.warn(msg, FutureWarning)\n"
     ]
    },
    {
     "data": {
      "image/png": "[encoded data removed]",
      "text/plain": [
       "<Figure size 1152x360 with 1 Axes>"
      ]
     },
     "metadata": {
      "needs_background": "light"
     },
     "output_type": "display_data"
    }
   ],
   "source": [
    "plt.figure(figsize=(16,5))\n",
    "plt.subplot(1,2,1)\n",
    "\n",
    "scale_factor_x = 300\n",
    "scale_factor_y = 0.1\n",
    "xmin, xmax = plt.xlim()\n",
    "ymin, ymax = plt.ylim()\n",
    "plt.xlim(xmin * scale_factor_x, xmax * scale_factor_x)\n",
    "plt.ylim(ymin * scale_factor_y, ymax * scale_factor_y)\n",
    "\n",
    "sns.distplot(fraud['distance_from_home'])\n",
    "plt.show()"
   ]
  },
  {
   "cell_type": "code",
   "execution_count": 20,
   "metadata": {},
   "outputs": [
    {
     "name": "stderr",
     "output_type": "stream",
     "text": [
      "/home/lu/.local/lib/python3.9/site-packages/seaborn/distributions.py:2619: FutureWarning: `distplot` is a deprecated function and will be removed in a future version. Please adapt your code to use either `displot` (a figure-level function with similar flexibility) or `histplot` (an axes-level function for histograms).\n",
      "  warnings.warn(msg, FutureWarning)\n"
     ]
    },
    {
     "data": {
      "image/png": "[encoded data removed]",
      "text/plain": [
       "<Figure size 1152x360 with 1 Axes>"
      ]
     },
     "metadata": {
      "needs_background": "light"
     },
     "output_type": "display_data"
    }
   ],
   "source": [
    "plt.figure(figsize=(16,5))\n",
    "plt.subplot(1,2,1)\n",
    "\n",
    "scale_factor_x = 300\n",
    "scale_factor_y = 0.1\n",
    "xmin, xmax = plt.xlim()\n",
    "ymin, ymax = plt.ylim()\n",
    "plt.xlim(xmin * scale_factor_x, xmax * scale_factor_x)\n",
    "plt.ylim(ymin * scale_factor_y, ymax * scale_factor_y)\n",
    "\n",
    "sns.distplot(no_fraud['distance_from_home'])\n",
    "plt.show()"
   ]
  },
  {
   "cell_type": "code",
   "execution_count": 21,
   "metadata": {},
   "outputs": [
    {
     "name": "stderr",
     "output_type": "stream",
     "text": [
      "/home/lu/.local/lib/python3.9/site-packages/seaborn/distributions.py:2619: FutureWarning: `distplot` is a deprecated function and will be removed in a future version. Please adapt your code to use either `displot` (a figure-level function with similar flexibility) or `histplot` (an axes-level function for histograms).\n",
      "  warnings.warn(msg, FutureWarning)\n"
     ]
    },
    {
     "data": {
      "image/png": "[encoded data removed]",
      "text/plain": [
       "<Figure size 1152x360 with 1 Axes>"
      ]
     },
     "metadata": {
      "needs_background": "light"
     },
     "output_type": "display_data"
    }
   ],
   "source": [
    "plt.figure(figsize=(16,5))\n",
    "plt.subplot(1,2,1)\n",
    "\n",
    "scale_factor_x = 50\n",
    "scale_factor_y = 0.4\n",
    "xmin, xmax = plt.xlim()\n",
    "ymin, ymax = plt.ylim()\n",
    "plt.xlim(xmin * scale_factor_x, xmax * scale_factor_x)\n",
    "plt.ylim(ymin * scale_factor_y, ymax * scale_factor_y)\n",
    "\n",
    "sns.distplot(fraud['distance_from_last_transaction'])\n",
    "plt.show()"
   ]
  },
  {
   "cell_type": "code",
   "execution_count": 22,
   "metadata": {},
   "outputs": [
    {
     "name": "stderr",
     "output_type": "stream",
     "text": [
      "/home/lu/.local/lib/python3.9/site-packages/seaborn/distributions.py:2619: FutureWarning: `distplot` is a deprecated function and will be removed in a future version. Please adapt your code to use either `displot` (a figure-level function with similar flexibility) or `histplot` (an axes-level function for histograms).\n",
      "  warnings.warn(msg, FutureWarning)\n"
     ]
    },
    {
     "data": {
      "image/png": "[encoded data removed]",
      "text/plain": [
       "<Figure size 1152x360 with 1 Axes>"
      ]
     },
     "metadata": {
      "needs_background": "light"
     },
     "output_type": "display_data"
    }
   ],
   "source": [
    "plt.figure(figsize=(16,5))\n",
    "plt.subplot(1,2,1)\n",
    "\n",
    "scale_factor_x = 20\n",
    "scale_factor_y = 0.8\n",
    "xmin, xmax = plt.xlim()\n",
    "ymin, ymax = plt.ylim()\n",
    "plt.xlim(xmin * scale_factor_x, xmax * scale_factor_x)\n",
    "plt.ylim(ymin * scale_factor_y, ymax * scale_factor_y)\n",
    "\n",
    "sns.distplot(fraud['ratio_to_median_purchase_price'])\n",
    "plt.show()"
   ]
  },
  {
   "cell_type": "code",
   "execution_count": 23,
   "metadata": {},
   "outputs": [
    {
     "name": "stderr",
     "output_type": "stream",
     "text": [
      "/home/lu/.local/lib/python3.9/site-packages/seaborn/distributions.py:2619: FutureWarning: `distplot` is a deprecated function and will be removed in a future version. Please adapt your code to use either `displot` (a figure-level function with similar flexibility) or `histplot` (an axes-level function for histograms).\n",
      "  warnings.warn(msg, FutureWarning)\n"
     ]
    },
    {
     "data": {
      "image/png": "[encoded data removed]",
      "text/plain": [
       "<Figure size 1152x360 with 1 Axes>"
      ]
     },
     "metadata": {
      "needs_background": "light"
     },
     "output_type": "display_data"
    }
   ],
   "source": [
    "plt.figure(figsize=(16,5))\n",
    "plt.subplot(1,2,1)\n",
    "\n",
    "scale_factor_x = 20\n",
    "scale_factor_y = 0.8\n",
    "xmin, xmax = plt.xlim()\n",
    "ymin, ymax = plt.ylim()\n",
    "plt.xlim(xmin * scale_factor_x, xmax * scale_factor_x)\n",
    "plt.ylim(ymin * scale_factor_y, ymax * scale_factor_y)\n",
    "\n",
    "sns.distplot(no_fraud['ratio_to_median_purchase_price'])\n",
    "plt.show()"
   ]
  },
  {
   "cell_type": "code",
   "execution_count": 24,
   "metadata": {},
   "outputs": [
    {
     "ename": "NameError",
     "evalue": "name 'features' is not defined",
     "output_type": "error",
     "traceback": [
      "\u001b[0;31m---------------------------------------------------------------------------\u001b[0m",
      "\u001b[0;31mNameError\u001b[0m                                 Traceback (most recent call last)",
      "\u001b[1;32m/home/lu/Desktop/uni/IART/IART-proj2/scr/main.ipynb Cell 24'\u001b[0m in \u001b[0;36m<cell line: 2>\u001b[0;34m()\u001b[0m\n\u001b[1;32m      <a href='vscode-notebook-cell:/home/lu/Desktop/uni/IART/IART-proj2/scr/main.ipynb#ch0000023?line=0'>1</a>\u001b[0m \u001b[39m#Splitting the dataset\u001b[39;00m\n\u001b[0;32m----> <a href='vscode-notebook-cell:/home/lu/Desktop/uni/IART/IART-proj2/scr/main.ipynb#ch0000023?line=1'>2</a>\u001b[0m train_features,test_features,train_labels,test_labels \u001b[39m=\u001b[39m train_test_split(features,target,stratify\u001b[39m=\u001b[39mtarget,shuffle\u001b[39m=\u001b[39m\u001b[39mTrue\u001b[39;00m,random_state\u001b[39m=\u001b[39m\u001b[39m43\u001b[39m)\n",
      "\u001b[0;31mNameError\u001b[0m: name 'features' is not defined"
     ]
    }
   ],
   "source": [
    "#Splitting the dataset\n",
    "train_features,test_features,train_labels,test_labels = train_test_split(features,target,stratify=target,shuffle=True,random_state=43)"
   ]
  },
  {
   "cell_type": "code",
   "execution_count": null,
   "metadata": {},
   "outputs": [],
   "source": [
    "#Standardising the dataset\n",
    "scale=MinMaxScaler().fit(train_features)\n",
    "train_features_scaled=scale.transform(train_features)\n",
    "test_features_scaled=scale.transform(test_features)"
   ]
  },
  {
   "cell_type": "code",
   "execution_count": null,
   "metadata": {},
   "outputs": [],
   "source": [
    "#Creating empty list to store model evaluation values\n",
    "data_all=[]"
   ]
  },
  {
   "cell_type": "markdown",
   "metadata": {},
   "source": [
    "4. Model Training"
   ]
  },
  {
   "cell_type": "code",
   "execution_count": null,
   "metadata": {},
   "outputs": [],
   "source": [
    "model_name = 'Random Forest'\n",
    "model = RandomForestClassifier()\n",
    "param_rf={\n",
    "    \"n_estimators\": range(2,15,2),\n",
    "    \"max_features\": range(1,7),\n",
    "    \"max_depth\": range(1,10)\n",
    "}\n",
    "\n",
    "random_rf = RandomizedSearchCV(estimator = model, \n",
    "                                param_distributions = param_rf, \n",
    "                                n_iter = 15, \n",
    "                                cv = 10,\n",
    "                                scoring = 'accuracy', \n",
    "                                verbose = 1, \n",
    "                                n_jobs = -1,\n",
    "                                random_state = 1)\n",
    "\n",
    "random_rf.fit(train_features, train_labels)\n",
    "model = random_rf.best_estimator_\n",
    "crossval = cross_val_score(model,\n",
    "                            train_features,\n",
    "                            train_labels,\n",
    "                            cv = 5,\n",
    "                            scoring = 'accuracy')\n",
    "\n",
    "scores = np.mean(crossval)\n",
    "\n",
    "test_pred = model.predict(test_features)\n",
    "test_recall = recall_score(test_labels, \n",
    "                            test_pred, \n",
    "                            pos_label = 1)\n",
    "fpr, tpr, thresholds = roc_curve(test_labels, \n",
    "                                test_pred, \n",
    "                                pos_label = 1)\n",
    "test_auc = auc(fpr, tpr)\n",
    "\n",
    "print('Train acc:', round(scores * 100, 2), '%')\n",
    "print('Test acc:', round(accuracy_score(test_labels, test_pred) * 100, 2), '%')\n",
    "print('Best n_estimators:', random_rf.best_estimator_.get_params()['n_estimators'])\n",
    "print('Best max_features:', random_rf.best_estimator_.get_params()['max_features'])\n",
    "print('Best max_depth:', random_rf.best_estimator_.get_params()['max_depth'])\n",
    "\n",
    "test_pred = model.predict(test_features)\n",
    "cm = confusion_matrix(test_labels, test_pred)\n",
    "clr = classification_report(test_labels, test_pred)\n",
    "plt.figure(figsize=(5, 5))\n",
    "sns.heatmap(cm, \n",
    "            annot = True, \n",
    "            vmin = 0, \n",
    "            fmt = 'g', \n",
    "            cbar = False, \n",
    "            cmap = 'Blues')\n",
    "plt.xlabel(\"Predicted\")\n",
    "plt.ylabel(\"Actual\")\n",
    "plt.title(\"Confusion Matrix:Random Forest\")\n",
    "plt.show()\n",
    "print(clr)\n",
    "\n",
    "if accuracy_score(test_labels, test_pred) - scores < 1:\n",
    "    result_model = 'Good Model'\n",
    "    data_all.append([model,\n",
    "                    scores,\n",
    "                    accuracy_score(test_labels, test_pred),\n",
    "                    test_recall, \n",
    "                    test_auc,\n",
    "                    result_model])\n",
    "else:\n",
    "    result_model = 'Bad Model'\n",
    "    data_all.append([model,\n",
    "                    scores,\n",
    "                    accuracy_score(test_labels, test_pred),\n",
    "                    test_recall,\n",
    "                    test_auc,\n",
    "                    result_model])"
   ]
  },
  {
   "cell_type": "code",
   "execution_count": null,
   "metadata": {},
   "outputs": [
    {
     "name": "stdout",
     "output_type": "stream",
     "text": [
      "Fitting 10 folds for each of 15 candidates, totalling 150 fits\n",
      "[CV] END .....................C=0.1, gamma=0.001, kernel=rbf; total time=   0.0s[CV] END .....................C=0.1, gamma=0.001, kernel=rbf; total time=   0.0s\n",
      "\n",
      "[CV] END .....................C=0.1, gamma=0.001, kernel=rbf; total time=   0.0s\n",
      "[CV] END .....................C=0.1, gamma=0.001, kernel=rbf; total time=   0.0s\n",
      "[CV] END .....................C=0.1, gamma=0.001, kernel=rbf; total time=   0.0s\n",
      "[CV] END .....................C=0.1, gamma=0.001, kernel=rbf; total time=   0.0s\n",
      "[CV] END .....................C=0.1, gamma=0.001, kernel=rbf; total time=   0.0s\n",
      "[CV] END .....................C=0.1, gamma=0.001, kernel=rbf; total time=   0.0s\n",
      "[CV] END .....................C=0.1, gamma=0.001, kernel=rbf; total time=   0.0s\n",
      "[CV] END .....................C=0.1, gamma=0.001, kernel=rbf; total time=   0.0s\n",
      "[CV] END ..........................C=1, gamma=10, kernel=rbf; total time=   0.0s\n",
      "[CV] END ..........................C=1, gamma=10, kernel=rbf; total time=   0.0s\n",
      "[CV] END ..........................C=1, gamma=10, kernel=rbf; total time=   0.0s\n",
      "[CV] END ..........................C=1, gamma=10, kernel=rbf; total time=   0.0s\n",
      "[CV] END ..........................C=1, gamma=10, kernel=rbf; total time=   0.0s\n",
      "[CV] END ..........................C=1, gamma=10, kernel=rbf; total time=   0.0s\n",
      "[CV] END ..........................C=1, gamma=10, kernel=rbf; total time=   0.0s\n",
      "[CV] END ..........................C=1, gamma=10, kernel=rbf; total time=   0.0s\n",
      "[CV] END ..........................C=1, gamma=10, kernel=rbf; total time=   0.0s\n",
      "[CV] END ..........................C=1, gamma=10, kernel=rbf; total time=   0.0s\n",
      "[CV] END ........................C=0.1, gamma=10, kernel=rbf; total time=   0.0s\n",
      "[CV] END ........................C=0.1, gamma=10, kernel=rbf; total time=   0.0s\n",
      "[CV] END ........................C=0.1, gamma=10, kernel=rbf; total time=   0.0s\n",
      "[CV] END ........................C=0.1, gamma=10, kernel=rbf; total time=   0.0s\n",
      "[CV] END ........................C=0.1, gamma=10, kernel=rbf; total time=   0.0s[CV] END ........................C=0.1, gamma=10, kernel=rbf; total time=   0.0s\n",
      "\n",
      "[CV] END ........................C=0.1, gamma=10, kernel=rbf; total time=   0.0s\n",
      "[CV] END ........................C=0.1, gamma=10, kernel=rbf; total time=   0.0s\n",
      "[CV] END ........................C=0.1, gamma=10, kernel=rbf; total time=   0.0s\n",
      "[CV] END ........................C=10, gamma=0.1, kernel=rbf; total time=   0.0s\n",
      "[CV] END ........................C=10, gamma=0.1, kernel=rbf; total time=   0.0s\n",
      "[CV] END ........................C=10, gamma=0.1, kernel=rbf; total time=   0.0s\n",
      "[CV] END ........................C=10, gamma=0.1, kernel=rbf; total time=   0.0s\n",
      "[CV] END ........................C=10, gamma=0.1, kernel=rbf; total time=   0.0s\n",
      "[CV] END ........................C=10, gamma=0.1, kernel=rbf; total time=   0.0s[CV] END ........................C=0.1, gamma=10, kernel=rbf; total time=   0.0s\n",
      "\n",
      "[CV] END ........................C=10, gamma=0.1, kernel=rbf; total time=   0.0s\n",
      "[CV] END ........................C=10, gamma=0.1, kernel=rbf; total time=   0.0s\n",
      "[CV] END ........................C=10, gamma=0.1, kernel=rbf; total time=   0.0s\n",
      "[CV] END ........................C=10, gamma=0.1, kernel=rbf; total time=   0.0s\n",
      "[CV] END .......................C=1, gamma=0.001, kernel=rbf; total time=   0.0s\n",
      "[CV] END .......................C=1, gamma=0.001, kernel=rbf; total time=   0.0s\n",
      "[CV] END .......................C=1, gamma=0.001, kernel=rbf; total time=   0.0s\n",
      "[CV] END .......................C=1, gamma=0.001, kernel=rbf; total time=   0.0s\n",
      "[CV] END .......................C=1, gamma=0.001, kernel=rbf; total time=   0.0s\n",
      "[CV] END .......................C=1, gamma=0.001, kernel=rbf; total time=   0.0s\n",
      "[CV] END .......................C=1, gamma=0.001, kernel=rbf; total time=   0.0s\n",
      "[CV] END .......................C=1, gamma=0.001, kernel=rbf; total time=   0.0s\n",
      "[CV] END .......................C=1, gamma=0.001, kernel=rbf; total time=   0.0s\n",
      "[CV] END .......................C=100, gamma=0.1, kernel=rbf; total time=   0.0s\n",
      "[CV] END .......................C=100, gamma=0.1, kernel=rbf; total time=   0.0s\n",
      "[CV] END .......................C=1, gamma=0.001, kernel=rbf; total time=   0.0s\n",
      "[CV] END .......................C=100, gamma=0.1, kernel=rbf; total time=   0.0s\n",
      "[CV] END .......................C=100, gamma=0.1, kernel=rbf; total time=   0.0s\n",
      "[CV] END .......................C=100, gamma=0.1, kernel=rbf; total time=   0.0s\n",
      "[CV] END .......................C=100, gamma=0.1, kernel=rbf; total time=   0.0s\n",
      "[CV] END .......................C=100, gamma=0.1, kernel=rbf; total time=   0.0s\n",
      "[CV] END ......................C=10, gamma=0.001, kernel=rbf; total time=   0.0s\n",
      "[CV] END .......................C=100, gamma=0.1, kernel=rbf; total time=   0.0s\n",
      "[CV] END ......................C=10, gamma=0.001, kernel=rbf; total time=   0.0s\n",
      "[CV] END ......................C=10, gamma=0.001, kernel=rbf; total time=   0.0s\n",
      "[CV] END .......................C=100, gamma=0.1, kernel=rbf; total time=   0.0s\n",
      "[CV] END ......................C=10, gamma=0.001, kernel=rbf; total time=   0.0s\n",
      "[CV] END ......................C=10, gamma=0.001, kernel=rbf; total time=   0.0s\n",
      "[CV] END ......................C=10, gamma=0.001, kernel=rbf; total time=   0.0s\n",
      "[CV] END .......................C=100, gamma=0.1, kernel=rbf; total time=   0.0s\n",
      "[CV] END ......................C=10, gamma=0.001, kernel=rbf; total time=   0.0s\n",
      "[CV] END ...........................C=1, gamma=1, kernel=rbf; total time=   0.0s\n",
      "[CV] END ......................C=10, gamma=0.001, kernel=rbf; total time=   0.0s\n",
      "[CV] END ...........................C=1, gamma=1, kernel=rbf; total time=   0.0s\n",
      "[CV] END ...........................C=1, gamma=1, kernel=rbf; total time=   0.0s\n",
      "[CV] END ......................C=10, gamma=0.001, kernel=rbf; total time=   0.0s\n",
      "[CV] END ......................C=10, gamma=0.001, kernel=rbf; total time=   0.0s\n",
      "[CV] END ...........................C=1, gamma=1, kernel=rbf; total time=   0.0s\n",
      "[CV] END ...........................C=1, gamma=1, kernel=rbf; total time=   0.0s\n",
      "[CV] END ...........................C=1, gamma=1, kernel=rbf; total time=   0.0s\n",
      "[CV] END ...........................C=1, gamma=1, kernel=rbf; total time=   0.0s\n",
      "[CV] END ...........................C=1, gamma=1, kernel=rbf; total time=   0.0s\n",
      "[CV] END ...........................C=1, gamma=1, kernel=rbf; total time=   0.0s\n",
      "[CV] END .........................C=0.1, gamma=1, kernel=rbf; total time=   0.0s\n",
      "[CV] END .........................C=0.1, gamma=1, kernel=rbf; total time=   0.0s\n",
      "[CV] END ...........................C=1, gamma=1, kernel=rbf; total time=   0.0s[CV] END .........................C=0.1, gamma=1, kernel=rbf; total time=   0.0s\n",
      "\n",
      "[CV] END .........................C=0.1, gamma=1, kernel=rbf; total time=   0.0s\n",
      "[CV] END .........................C=0.1, gamma=1, kernel=rbf; total time=   0.0s\n",
      "[CV] END .........................C=0.1, gamma=1, kernel=rbf; total time=   0.0s\n",
      "[CV] END .........................C=0.1, gamma=1, kernel=rbf; total time=   0.0s\n",
      "[CV] END .....................C=100, gamma=0.001, kernel=rbf; total time=   0.0s\n",
      "[CV] END .........................C=0.1, gamma=1, kernel=rbf; total time=   0.0s\n",
      "[CV] END .........................C=0.1, gamma=1, kernel=rbf; total time=   0.0s\n",
      "[CV] END .....................C=100, gamma=0.001, kernel=rbf; total time=   0.0s\n",
      "[CV] END .........................C=0.1, gamma=1, kernel=rbf; total time=   0.0s\n",
      "[CV] END .....................C=100, gamma=0.001, kernel=rbf; total time=   0.0s\n",
      "[CV] END .....................C=100, gamma=0.001, kernel=rbf; total time=   0.0s\n",
      "[CV] END .......................C=0.1, gamma=0.1, kernel=rbf; total time=   0.0s\n",
      "[CV] END .....................C=100, gamma=0.001, kernel=rbf; total time=   0.0s\n",
      "[CV] END .......................C=0.1, gamma=0.1, kernel=rbf; total time=   0.0s\n",
      "[CV] END .........................C=1, gamma=0.1, kernel=rbf; total time=   0.0s\n",
      "[CV] END .......................C=0.1, gamma=0.1, kernel=rbf; total time=   0.0s\n",
      "[CV] END .....................C=100, gamma=0.001, kernel=rbf; total time=   0.0s[CV] END .......................C=0.1, gamma=0.1, kernel=rbf; total time=   0.0s\n",
      "[CV] END .......................C=0.1, gamma=0.1, kernel=rbf; total time=   0.0s\n",
      "[CV] END .....................C=100, gamma=0.001, kernel=rbf; total time=   0.0s\n",
      "\n",
      "[CV] END .........................C=1, gamma=0.1, kernel=rbf; total time=   0.0s\n",
      "[CV] END .........................C=1, gamma=0.1, kernel=rbf; total time=   0.0s\n",
      "[CV] END .........................C=1, gamma=0.1, kernel=rbf; total time=   0.0s\n",
      "[CV] END .......................C=0.1, gamma=0.1, kernel=rbf; total time=   0.0s\n",
      "[CV] END .......................C=0.1, gamma=0.1, kernel=rbf; total time=   0.0s[CV] END .....................C=100, gamma=0.001, kernel=rbf; total time=   0.0s\n",
      "[CV] END .........................C=1, gamma=0.1, kernel=rbf; total time=   0.0s\n",
      "[CV] END .....................C=100, gamma=0.001, kernel=rbf; total time=   0.0s\n",
      "[CV] END .........................C=1, gamma=0.1, kernel=rbf; total time=   0.0s[CV] END .........................C=1, gamma=0.1, kernel=rbf; total time=   0.0s\n",
      "[CV] END .......................C=0.1, gamma=0.1, kernel=rbf; total time=   0.0s\n",
      "[CV] END .......................C=0.1, gamma=0.1, kernel=rbf; total time=   0.0s\n",
      "\n",
      "[CV] END .........................C=1, gamma=0.1, kernel=rbf; total time=   0.0s\n",
      "[CV] END .....................C=100, gamma=0.001, kernel=rbf; total time=   0.0s\n",
      "[CV] END .........................C=1, gamma=0.1, kernel=rbf; total time=   0.0s\n",
      "\n",
      "[CV] END ..........................C=10, gamma=1, kernel=rbf; total time=   0.0s\n",
      "[CV] END .........................C=1, gamma=0.1, kernel=rbf; total time=   0.0s\n",
      "[CV] END .......................C=0.1, gamma=0.1, kernel=rbf; total time=   0.0s\n",
      "[CV] END ..........................C=10, gamma=1, kernel=rbf; total time=   0.0s\n",
      "[CV] END ..........................C=10, gamma=1, kernel=rbf; total time=   0.0s\n",
      "[CV] END ..........................C=10, gamma=1, kernel=rbf; total time=   0.0s\n",
      "[CV] END ..........................C=10, gamma=1, kernel=rbf; total time=   0.0s\n",
      "[CV] END ..........................C=10, gamma=1, kernel=rbf; total time=   0.0s\n",
      "[CV] END ..........................C=10, gamma=1, kernel=rbf; total time=   0.0s\n",
      "[CV] END ..........................C=10, gamma=1, kernel=rbf; total time=   0.0s\n",
      "[CV] END ..........................C=10, gamma=1, kernel=rbf; total time=   0.0s\n",
      "[CV] END ..........................C=10, gamma=1, kernel=rbf; total time=   0.0s\n",
      "[CV] END .........................C=100, gamma=1, kernel=rbf; total time=   0.0s\n",
      "[CV] END .........................C=100, gamma=1, kernel=rbf; total time=   0.0s\n",
      "[CV] END .........................C=100, gamma=1, kernel=rbf; total time=   0.0s\n",
      "[CV] END .........................C=100, gamma=1, kernel=rbf; total time=   0.0s\n",
      "[CV] END .........................C=100, gamma=1, kernel=rbf; total time=   0.0s\n",
      "[CV] END .........................C=100, gamma=1, kernel=rbf; total time=   0.0s\n",
      "[CV] END .........................C=100, gamma=1, kernel=rbf; total time=   0.0s\n",
      "[CV] END .........................C=100, gamma=1, kernel=rbf; total time=   0.0s\n",
      "[CV] END .........................C=100, gamma=1, kernel=rbf; total time=   0.0s\n",
      "[CV] END .........................C=100, gamma=1, kernel=rbf; total time=   0.0s\n",
      "[CV] END ........................C=100, gamma=10, kernel=rbf; total time=   0.0s\n",
      "[CV] END ........................C=100, gamma=10, kernel=rbf; total time=   0.0s\n",
      "[CV] END ........................C=100, gamma=10, kernel=rbf; total time=   0.0s\n",
      "[CV] END ........................C=100, gamma=10, kernel=rbf; total time=   0.0s\n",
      "[CV] END ........................C=100, gamma=10, kernel=rbf; total time=   0.0s\n",
      "[CV] END ........................C=100, gamma=10, kernel=rbf; total time=   0.0s\n",
      "[CV] END ........................C=100, gamma=10, kernel=rbf; total time=   0.0s\n",
      "[CV] END ........................C=100, gamma=10, kernel=rbf; total time=   0.0s\n",
      "[CV] END ........................C=100, gamma=10, kernel=rbf; total time=   0.0s\n",
      "[CV] END ........................C=100, gamma=10, kernel=rbf; total time=   0.0s\n",
      "Train acc: 95.33 %\n",
      "Test acc: 88.0 %\n",
      "Best C: 100\n",
      "Best gamma: 10\n",
      "Best kernel: rbf\n"
     ]
    },
    {
     "data": {
      "image/png": "[encoded data removed]",
      "text/plain": [
       "<Figure size 360x360 with 1 Axes>"
      ]
     },
     "metadata": {
      "needs_background": "light"
     },
     "output_type": "display_data"
    },
    {
     "name": "stdout",
     "output_type": "stream",
     "text": [
      "Classification Report:\n",
      "----------------------\n",
      "               precision    recall  f1-score   support\n",
      "\n",
      "         0.0       0.88      0.88      0.88        25\n",
      "         1.0       0.88      0.88      0.88        25\n",
      "\n",
      "    accuracy                           0.88        50\n",
      "   macro avg       0.88      0.88      0.88        50\n",
      "weighted avg       0.88      0.88      0.88        50\n",
      "\n"
     ]
    }
   ],
   "source": [
    "model_name='SVM'\n",
    "model= SVC()\n",
    "param_svm={\n",
    "    \"C\":[100,10,1,0.1],\n",
    "    \"gamma\": [10,1,0.1,0.001],\n",
    "    \"kernel\": ['rbf']\n",
    "    }\n",
    "\n",
    "random_svm=RandomizedSearchCV(estimator=model, param_distributions=param_svm, n_iter = 15 , scoring='accuracy', cv = 10, verbose=2, n_jobs=-1,random_state=43)\n",
    "random_svm.fit(train_features_scaled,train_labels)\n",
    "\n",
    "model=random_svm.best_estimator_\n",
    "crossval = cross_val_score(model,train_features_scaled,train_labels,cv=5,scoring='accuracy')\n",
    "scores = np.mean(crossval)\n",
    "\n",
    "test_pred=model.predict(test_features_scaled)\n",
    "test_recall = recall_score(test_labels, test_pred, pos_label=1)\n",
    "fpr, tpr, thresholds = roc_curve(test_labels, test_pred, pos_label=1)\n",
    "test_auc = auc(fpr, tpr)\n",
    "\n",
    "print('Train acc:',round(scores*100,2),'%')\n",
    "print('Test acc:',round(accuracy_score(test_labels,test_pred)*100,2),'%')\n",
    "print('Best C:',random_svm.best_estimator_.get_params()['C'])\n",
    "print('Best gamma:',random_svm.best_estimator_.get_params()['gamma'])\n",
    "print('Best kernel:',random_svm.best_estimator_.get_params()['kernel']) \n",
    "\n",
    "test_pred=model.predict(test_features_scaled)\n",
    "cm = confusion_matrix(test_labels, test_pred)\n",
    "clr = classification_report(test_labels, test_pred)\n",
    "plt.figure(figsize=(5, 5))\n",
    "sns.heatmap(cm, annot=True, vmin=0, fmt='g', cbar=False, cmap='Greens')\n",
    "plt.xlabel(\"Predicted\")\n",
    "plt.ylabel(\"Actual\")\n",
    "plt.title(\"Confusion Matrix:SVM\")\n",
    "plt.show()\n",
    "print(\"Classification Report:\\n----------------------\\n\", clr)\n",
    "\n",
    "if accuracy_score(test_labels,test_pred)-scores <1:\n",
    "    result_model='Good Model'\n",
    "    data_all.append([model_name,scores,accuracy_score(test_labels,test_pred),test_recall,test_auc,result_model])\n",
    "else:\n",
    "    result_model='Failed'\n",
    "    data_all.append([model_name,scores,accuracy_score(test_labels,test_pred),test_recall,test_auc,result_model])"
   ]
  },
  {
   "cell_type": "markdown",
   "metadata": {},
   "source": [
    "Defining a Function for Train and Test split - split is done on 80% train and 20% test (can be altered in test_size value). Initially done including all features."
   ]
  },
  {
   "cell_type": "code",
   "execution_count": null,
   "metadata": {},
   "outputs": [
    {
     "ename": "NameError",
     "evalue": "name 'x_train' is not defined",
     "output_type": "error",
     "traceback": [
      "\u001b[0;31m---------------------------------------------------------------------------\u001b[0m",
      "\u001b[0;31mNameError\u001b[0m                                 Traceback (most recent call last)",
      "\u001b[1;32m/home/lu/Desktop/uni/IART/IART-proj2/scr/main.ipynb Cell 34'\u001b[0m in \u001b[0;36m<cell line: 3>\u001b[0;34m()\u001b[0m\n\u001b[1;32m      <a href='vscode-notebook-cell:/home/lu/Desktop/uni/IART/IART-proj2/scr/main.ipynb#ch0000079?line=0'>1</a>\u001b[0m \u001b[39m# Decision Tree model\u001b[39;00m\n\u001b[1;32m      <a href='vscode-notebook-cell:/home/lu/Desktop/uni/IART/IART-proj2/scr/main.ipynb#ch0000079?line=1'>2</a>\u001b[0m des_tree_model \u001b[39m=\u001b[39m DecisionTreeClassifier()\n\u001b[0;32m----> <a href='vscode-notebook-cell:/home/lu/Desktop/uni/IART/IART-proj2/scr/main.ipynb#ch0000079?line=2'>3</a>\u001b[0m drawing\u001b[39m=\u001b[39m des_tree_model\u001b[39m.\u001b[39mfit(x_train, y_train)\n\u001b[1;32m      <a href='vscode-notebook-cell:/home/lu/Desktop/uni/IART/IART-proj2/scr/main.ipynb#ch0000079?line=3'>4</a>\u001b[0m y_test_pred \u001b[39m=\u001b[39m des_tree_model\u001b[39m.\u001b[39mpredict(x_test)\n\u001b[1;32m      <a href='vscode-notebook-cell:/home/lu/Desktop/uni/IART/IART-proj2/scr/main.ipynb#ch0000079?line=4'>5</a>\u001b[0m y_train_pred \u001b[39m=\u001b[39m des_tree_model\u001b[39m.\u001b[39mpredict(x_train)\n",
      "\u001b[0;31mNameError\u001b[0m: name 'x_train' is not defined"
     ]
    }
   ],
   "source": [
    "# Decision Tree model\n",
    "des_tree_model = DecisionTreeClassifier()\n",
    "drawing= des_tree_model.fit(x_train, y_train)\n",
    "y_test_pred = des_tree_model.predict(x_test)\n",
    "y_train_pred = des_tree_model.predict(x_train)\n",
    "Accuracy_Test=accuracy_score(y_test, y_test_pred) * 100\n",
    "Accuracy_Test= str(Accuracy_Test) + \" %\"\n",
    "Accuracy_Train=accuracy_score(y_train, y_train_pred) * 100\n",
    "Accuracy_Train= str(Accuracy_Train) + \" %\"\n",
    "Train_Data_Score=des_tree_model.score(x_train, y_train) * 100\n",
    "Train_Data_Score= str(Train_Data_Score) + \" %\"\n",
    "\n",
    "\n",
    "#Construction of confusion matrix\n",
    "confmat_train = confusion_matrix(y_train_pred, y_train)\n",
    "confmat_test =  confusion_matrix(y_test_pred, y_test)\n",
    "print (\"\\nConfusion matrix of Train Data\\n\", confmat_train)\n",
    "print (\"\\nConfusion matrix of Test Data\\n\", confmat_test)\n",
    "total=sum(sum(confmat_test))\n",
    "\n",
    "\n",
    "#Calculation of Specificity\n",
    "#Specificity = TN/(TN+FP)\n",
    "sp = confmat_test[1,1]/(confmat_test[1,0]+confmat_test[1,1]) * 100\n",
    "sp= str(sp) + \" %\"\n",
    "\n",
    "\n",
    "#Calculation of sensitivity\n",
    "#Sensitivity= TP/(TP+FN)\n",
    "sensi = confmat_test[0,0]/(confmat_test[0,0]+confmat_test[0,1]) * 100\n",
    "sensi= str(sensi) + \" %\"\n",
    "\n",
    "\n",
    "\n",
    "myTable = PrettyTable([\"Peformance Paramters\", \"Value\"]) \n",
    "#Insert rows\n",
    "myTable.add_row([\"Accuracy of Test Data\",Accuracy_Test]) \n",
    "myTable.add_row([\"Accuracy of Train Data\", Accuracy_Train]) \n",
    "myTable.add_row([\"Data score of Train Data\",Train_Data_Score]) \n",
    "myTable.add_row([\"Specificity of the confusion matrix\",sp]) \n",
    "myTable.add_row([\"Sensitivity of the confusion matrix\",sensi])\n",
    "\n",
    "#print Output\n",
    "print(myTable)"
   ]
  },
  {
   "cell_type": "code",
   "execution_count": null,
   "metadata": {},
   "outputs": [],
   "source": [
    "# Confusion matrix of the Decision Tree\n",
    "import matplotlib.pyplot as plt\n",
    "%matplotlib inline  \n",
    "\n",
    "def plot_confusionmat(cm, lab, test_or_train):\n",
    "    fig = plt.figure()\n",
    "    ax = fig.add_subplot(111)\n",
    "    f = ax.matshow(cm, cmap=plt.cm.turbo)\n",
    "    plt.title('Confusion Matrix of the ' + test_or_train +' Decision Tree \\n')\n",
    "    fig.colorbar(f)\n",
    "    ax.set_xticklabels([''] + lab)\n",
    "    ax.set_yticklabels([''] + lab)\n",
    "    plt.xlabel('Predicted Values')\n",
    "    plt.ylabel('True Values')\n",
    "    s = [['TP','FN'], ['FP', 'TN']]\n",
    "    for k in range(2):\n",
    "        for l in range(2):\n",
    "            plt.text(l,k, str(cm[k][l]))\n",
    "    plt.show()"
   ]
  },
  {
   "cell_type": "code",
   "execution_count": null,
   "metadata": {},
   "outputs": [],
   "source": [
    "plot_confusionmat(confmat_train, [\"0\",\"1\"], \"Training\")\n",
    "plot_confusionmat(confmat_test, [\"0\",\"1\"], \"Testing\")"
   ]
  },
  {
   "cell_type": "code",
   "execution_count": null,
   "metadata": {},
   "outputs": [],
   "source": [
    "#Decision Tree Drawing :\n",
    "plt.figure(figsize=[60,40])\n",
    "tree.plot_tree(des_tree_model,fontsize=20, rounded=True,impurity=True, precision=2)\n",
    "#tree.plot_tree(drawing,fontsize=20, rounded=True,impurity=True, precision=2)\n",
    "plt.show()"
   ]
  },
  {
   "cell_type": "markdown",
   "metadata": {},
   "source": [
    "1. Modeling"
   ]
  },
  {
   "cell_type": "code",
   "execution_count": null,
   "metadata": {},
   "outputs": [],
   "source": [
    "y = dataFrame['fraud']\n",
    "X = dataFrame.drop('fraud', axis=1)"
   ]
  },
  {
   "cell_type": "code",
   "execution_count": null,
   "metadata": {},
   "outputs": [],
   "source": [
    "X_train, X_test, y_train, y_test = train_test_split(X, y, test_size=0.3, stratify=y)"
   ]
  },
  {
   "cell_type": "markdown",
   "metadata": {},
   "source": [
    "2. Pre-processing"
   ]
  },
  {
   "cell_type": "code",
   "execution_count": null,
   "metadata": {},
   "outputs": [],
   "source": [
    "# List of continuous features\n",
    "conts = list(dataFrame.columns[:3])\n",
    "\n",
    "# List of categorical (0/1) features\n",
    "cats = list(dataFrame.columns[3:-1])\n",
    "\n",
    "transformations = [('continuous', StandardScaler(), conts), ('categorical', OrdinalEncoder(), cats)]\n",
    "pipeline = ColumnTransformer(transformations)"
   ]
  },
  {
   "cell_type": "code",
   "execution_count": null,
   "metadata": {},
   "outputs": [],
   "source": [
    "train_transformed = pipeline.fit_transform(X_train)"
   ]
  },
  {
   "cell_type": "markdown",
   "metadata": {},
   "source": [
    "3. Baseline Model"
   ]
  },
  {
   "cell_type": "code",
   "execution_count": null,
   "metadata": {},
   "outputs": [],
   "source": [
    "baseline = LogisticRegression(max_iter=110)"
   ]
  },
  {
   "cell_type": "code",
   "execution_count": null,
   "metadata": {},
   "outputs": [],
   "source": [
    "baseline.fit(train_transformed, y_train)"
   ]
  },
  {
   "cell_type": "code",
   "execution_count": null,
   "metadata": {},
   "outputs": [],
   "source": [
    "test_transformed = pipeline.transform(X_test)\n",
    "\n",
    "baseline_preds = baseline.predict(test_transformed)"
   ]
  },
  {
   "cell_type": "code",
   "execution_count": null,
   "metadata": {},
   "outputs": [],
   "source": [
    "baseline.score(test_transformed, y_test)"
   ]
  },
  {
   "cell_type": "code",
   "execution_count": null,
   "metadata": {},
   "outputs": [],
   "source": [
    "confusion_matrix(y_test, baseline_preds)"
   ]
  },
  {
   "cell_type": "code",
   "execution_count": null,
   "metadata": {},
   "outputs": [],
   "source": [
    "precision_score(y_test, baseline_preds)"
   ]
  },
  {
   "cell_type": "code",
   "execution_count": null,
   "metadata": {},
   "outputs": [],
   "source": [
    "recall_score(y_test, baseline_preds)"
   ]
  },
  {
   "cell_type": "markdown",
   "metadata": {},
   "source": [
    "4. Complex Model"
   ]
  },
  {
   "cell_type": "code",
   "execution_count": null,
   "metadata": {},
   "outputs": [],
   "source": [
    "svc_clf = SVC(kernel='rbf', gamma='auto')"
   ]
  },
  {
   "cell_type": "code",
   "execution_count": null,
   "metadata": {},
   "outputs": [],
   "source": [
    "svc_clf.fit(train_transformed, y_train)"
   ]
  },
  {
   "cell_type": "code",
   "execution_count": null,
   "metadata": {},
   "outputs": [],
   "source": [
    "svc_clf.score(test_transformed, y_test)"
   ]
  },
  {
   "cell_type": "code",
   "execution_count": null,
   "metadata": {},
   "outputs": [],
   "source": [
    "svc_preds = svc_clf.predict(test_transformed)"
   ]
  },
  {
   "cell_type": "code",
   "execution_count": null,
   "metadata": {},
   "outputs": [],
   "source": [
    "confusion_matrix(y_test, svc_preds)"
   ]
  },
  {
   "cell_type": "code",
   "execution_count": null,
   "metadata": {},
   "outputs": [],
   "source": [
    "precision_score(y_test, svc_preds)"
   ]
  },
  {
   "cell_type": "code",
   "execution_count": null,
   "metadata": {},
   "outputs": [],
   "source": [
    "recall_score(y_test, svc_preds)"
   ]
  },
  {
   "cell_type": "code",
   "execution_count": null,
   "metadata": {},
   "outputs": [],
   "source": []
  }
 ],
 "metadata": {
  "interpreter": {
   "hash": "916dbcbb3f70747c44a77c7bcd40155683ae19c65e1c03b4aa3499c5328201f1"
  },
  "kernelspec": {
   "display_name": "Python 3.9.7 64-bit",
   "language": "python",
   "name": "python3"
  },
  "language_info": {
   "codemirror_mode": {
    "name": "ipython",
    "version": 3
   },
   "file_extension": ".py",
   "mimetype": "text/x-python",
   "name": "python",
   "nbconvert_exporter": "python",
   "pygments_lexer": "ipython3",
   "version": "3.9.7"
  }
 },
 "nbformat": 4,
 "nbformat_minor": 2
}
